{
  "cells": [
    {
      "cell_type": "markdown",
      "metadata": {
        "id": "miGiHZdIDfE8"
      },
      "source": [
        "*아래 링크를 통해 이 노트북을 주피터 노트북 뷰어(nbviewer.jupyter.org)로 보거나 구글 코랩(colab.research.google.com)에서 실행할 수 있습니다.*\n",
        "\n",
        "<table class=\"tfo-notebook-buttons\" align=\"left\">\n",
        "  <td>\n",
        "    <a target=\"_blank\" href=\"https://nbviewer.org/github/rickiepark/nlp-with-pytorch/blob/master/chapter_1/PyTorch_Basics.ipynb\"><img src=\"https://jupyter.org/assets/share.png\" width=\"60\" />주피터 노트북 뷰어로 보기</a>\n",
        "  </td>\n",
        "  <td>\n",
        "    <a target=\"_blank\" href=\"https://colab.research.google.com/github/rickiepark/nlp-with-pytorch/blob/master/chapter_1/PyTorch_Basics.ipynb\"><img src=\"https://www.tensorflow.org/images/colab_logo_32px.png\" />구글 코랩(Colab)에서 실행하기</a>\n",
        "  </td>\n",
        "</table>"
      ]
    },
    {
      "cell_type": "markdown",
      "metadata": {
        "id": "w6a52D_7DfFA"
      },
      "source": [
        "# 샘플과 타깃의 인코딩"
      ]
    },
    {
      "cell_type": "markdown",
      "metadata": {
        "id": "UhvhmGRQDfFB"
      },
      "source": [
        "## TF 표현"
      ]
    },
    {
      "cell_type": "code",
      "execution_count": 2,
      "metadata": {
        "colab": {
          "base_uri": "https://localhost:8080/",
          "height": 320
        },
        "id": "Lyn9AktrDfFB",
        "outputId": "c0f45eec-939b-4291-c5ae-fa4c9f26955c"
      },
      "outputs": [
        {
          "ename": "ModuleNotFoundError",
          "evalue": "No module named 'seaborn'",
          "output_type": "error",
          "traceback": [
            "\u001b[0;31m---------------------------------------------------------------------------\u001b[0m",
            "\u001b[0;31mModuleNotFoundError\u001b[0m                       Traceback (most recent call last)",
            "\u001b[1;32m/Users/muncheolhyeon/Github/lang-study/coding/python/NLP/week09/PyTorch-Basics.ipynb 셀 4\u001b[0m line \u001b[0;36m3\n\u001b[1;32m      <a href='vscode-notebook-cell:/Users/muncheolhyeon/Github/lang-study/coding/python/NLP/week09/PyTorch-Basics.ipynb#W3sZmlsZQ%3D%3D?line=0'>1</a>\u001b[0m \u001b[39mimport\u001b[39;00m \u001b[39mmatplotlib\u001b[39;00m\u001b[39m.\u001b[39;00m\u001b[39mpyplot\u001b[39;00m \u001b[39mas\u001b[39;00m \u001b[39mplt\u001b[39;00m\n\u001b[1;32m      <a href='vscode-notebook-cell:/Users/muncheolhyeon/Github/lang-study/coding/python/NLP/week09/PyTorch-Basics.ipynb#W3sZmlsZQ%3D%3D?line=1'>2</a>\u001b[0m \u001b[39mfrom\u001b[39;00m \u001b[39msklearn\u001b[39;00m\u001b[39m.\u001b[39;00m\u001b[39mfeature_extraction\u001b[39;00m\u001b[39m.\u001b[39;00m\u001b[39mtext\u001b[39;00m \u001b[39mimport\u001b[39;00m CountVectorizer\n\u001b[0;32m----> <a href='vscode-notebook-cell:/Users/muncheolhyeon/Github/lang-study/coding/python/NLP/week09/PyTorch-Basics.ipynb#W3sZmlsZQ%3D%3D?line=2'>3</a>\u001b[0m \u001b[39mimport\u001b[39;00m \u001b[39mseaborn\u001b[39;00m \u001b[39mas\u001b[39;00m \u001b[39msns\u001b[39;00m\n\u001b[1;32m      <a href='vscode-notebook-cell:/Users/muncheolhyeon/Github/lang-study/coding/python/NLP/week09/PyTorch-Basics.ipynb#W3sZmlsZQ%3D%3D?line=4'>5</a>\u001b[0m corpus \u001b[39m=\u001b[39m [\u001b[39m'\u001b[39m\u001b[39mTime flies like an arrow.\u001b[39m\u001b[39m'\u001b[39m, \n\u001b[1;32m      <a href='vscode-notebook-cell:/Users/muncheolhyeon/Github/lang-study/coding/python/NLP/week09/PyTorch-Basics.ipynb#W3sZmlsZQ%3D%3D?line=5'>6</a>\u001b[0m           \u001b[39m'\u001b[39m\u001b[39mFruit flies like a banana.\u001b[39m\u001b[39m'\u001b[39m]\n\u001b[1;32m      <a href='vscode-notebook-cell:/Users/muncheolhyeon/Github/lang-study/coding/python/NLP/week09/PyTorch-Basics.ipynb#W3sZmlsZQ%3D%3D?line=6'>7</a>\u001b[0m one_hot_vectorizer \u001b[39m=\u001b[39m CountVectorizer(binary\u001b[39m=\u001b[39m\u001b[39mTrue\u001b[39;00m)\n",
            "\u001b[0;31mModuleNotFoundError\u001b[0m: No module named 'seaborn'"
          ]
        }
      ],
      "source": [
        "import matplotlib.pyplot as plt\n",
        "from sklearn.feature_extraction.text import CountVectorizer\n",
        "import seaborn as sns\n",
        "\n",
        "corpus = ['Time flies like an arrow.', \n",
        "          'Fruit flies like a banana.']\n",
        "one_hot_vectorizer = CountVectorizer(binary=True)\n",
        "one_hot = one_hot_vectorizer.fit_transform(corpus).toarray()\n",
        "vocab = one_hot_vectorizer.get_feature_names()\n",
        "sns.heatmap(one_hot, annot=True,\n",
        "            cbar=False, xticklabels=vocab,\n",
        "            yticklabels=['Sentence 1', 'Sentence 2'])\n",
        "\n",
        "# plt.savefig('1-04.png', dpi=300)\n",
        "plt.show()"
      ]
    },
    {
      "cell_type": "markdown",
      "metadata": {
        "id": "ZZ6u_KHrDfFC"
      },
      "source": [
        "## TF-IDF 표현"
      ]
    },
    {
      "cell_type": "code",
      "execution_count": null,
      "metadata": {
        "colab": {
          "base_uri": "https://localhost:8080/",
          "height": 265
        },
        "id": "IrnxdViHDfFC",
        "outputId": "420d1692-e74d-457c-832b-933027ef5e74",
        "scrolled": true
      },
      "outputs": [
        {
          "data": {
            "image/png": "[encoded data removed]",
            "text/plain": [
              "<Figure size 432x288 with 1 Axes>"
            ]
          },
          "metadata": {
            "needs_background": "light"
          },
          "output_type": "display_data"
        }
      ],
      "source": [
        "from sklearn.feature_extraction.text import TfidfVectorizer\n",
        "import seaborn as sns\n",
        " \n",
        "tfidf_vectorizer = TfidfVectorizer()\n",
        "tfidf = tfidf_vectorizer.fit_transform(corpus).toarray()\n",
        "sns.heatmap(tfidf, annot=True, cbar=False, xticklabels=vocab,\n",
        "            yticklabels= ['Sentence 1', 'Sentence 2'])\n",
        "\n",
        "# plt.savefig('1-05.png', dpi=300)\n",
        "plt.show()"
      ]
    },
    {
      "cell_type": "markdown",
      "metadata": {
        "id": "UGkYmCvYDfFD"
      },
      "source": [
        "$IDF(w) = \\text{log} \\left(\\dfrac{N+1}{N_w+1}\\right)+1$"
      ]
    },
    {
      "cell_type": "markdown",
      "metadata": {
        "id": "KJRnSVJaDfFD"
      },
      "source": [
        "첫 번째 문장의 'flies'와 'like'의 경우 TF = 1이므로 $\\text{TF-IDF}=1\\times\\text{log}\\left(\\dfrac{2+1}{2+1}\\right)+1=1$입니다.\n",
        "\n",
        "단어 'an', 'arrow', 'time'의 경우 $N_w=1$입니다. 따라서 $\\text{TF-IDF}=1\\times\\text{log}\\left(\\dfrac{2+1}{1+1}\\right)+1=1.4054651081081644$입니다.\n",
        "\n",
        "L2 정규화를 적용하면 'flies'와 'like'는 $\\dfrac{1}{\\sqrt{2\\times1^2+3\\times1.4054651081081644^2+}}=0.3552$가 됩니다.\n",
        "\n",
        "'an', 'arrow', 'time'는 $\\dfrac{1.4054651081081644}{\\sqrt{2\\times1^2+3\\times1.4054651081081644^2+}}=0.4992$가 됩니다."
      ]
    },
    {
      "cell_type": "markdown",
      "metadata": {
        "id": "F7h3Eq8WDfFD"
      },
      "source": [
        "# 파이토치 기초"
      ]
    },
    {
      "cell_type": "code",
      "execution_count": null,
      "metadata": {
        "colab": {
          "base_uri": "https://localhost:8080/"
        },
        "id": "U7g_nQyMDfFD",
        "outputId": "455154b3-a25c-4a38-a21d-902c279fd05e"
      },
      "outputs": [
        {
          "data": {
            "text/plain": [
              "<torch._C.Generator at 0x7fe58b717410>"
            ]
          },
          "execution_count": 3,
          "metadata": {},
          "output_type": "execute_result"
        }
      ],
      "source": [
        "import torch\n",
        "import numpy as np\n",
        "torch.manual_seed(1234)"
      ]
    },
    {
      "cell_type": "markdown",
      "metadata": {
        "id": "Pg1eAcW7DfFD"
      },
      "source": [
        "## 텐서"
      ]
    },
    {
      "cell_type": "markdown",
      "metadata": {
        "id": "ZxZxh3_kDfFE"
      },
      "source": [
        "* 스칼라는 하나의 숫자입니다.\n",
        "* 벡터는 숫자의 배열입니다.\n",
        "* 행렬은 숫자의 2-D 배열입니다.\n",
        "* 텐서는 숫자의 N-D 배열입니다."
      ]
    },
    {
      "cell_type": "markdown",
      "metadata": {
        "id": "2KQwG6-xDfFE"
      },
      "source": [
        "#### 텐서 만들기"
      ]
    },
    {
      "cell_type": "markdown",
      "metadata": {
        "id": "SumpnrfIDfFE"
      },
      "source": [
        "크기를 지정하여 텐서를 만들 수 있습니다. 여기서는 행이 5개이고 열이 3개인 텐서를 만듭니다."
      ]
    },
    {
      "cell_type": "code",
      "execution_count": null,
      "metadata": {
        "id": "HcwYHTaLDfFE"
      },
      "outputs": [],
      "source": [
        "def describe(x):\n",
        "    print(\"타입: {}\".format(x.type()))\n",
        "    print(\"크기: {}\".format(x.shape))\n",
        "    print(\"값: \\n{}\".format(x))"
      ]
    },
    {
      "cell_type": "code",
      "execution_count": null,
      "metadata": {
        "colab": {
          "base_uri": "https://localhost:8080/"
        },
        "id": "mIYCWwVlDfFE",
        "outputId": "bb7356f8-d442-46eb-c170-9eed45d87392"
      },
      "outputs": [
        {
          "name": "stdout",
          "output_type": "stream",
          "text": [
            "타입: torch.FloatTensor\n",
            "크기: torch.Size([2, 3])\n",
            "값: \n",
            "tensor([[5.2022e-35, 0.0000e+00, 3.7835e-44],\n",
            "        [0.0000e+00,        nan, 0.0000e+00]])\n"
          ]
        }
      ],
      "source": [
        "describe(torch.Tensor(2, 3))"
      ]
    },
    {
      "cell_type": "code",
      "execution_count": null,
      "metadata": {
        "colab": {
          "base_uri": "https://localhost:8080/"
        },
        "id": "QrALpahUDfFE",
        "outputId": "47d08ac5-6c9c-40d5-dc7c-055d91452dd0"
      },
      "outputs": [
        {
          "name": "stdout",
          "output_type": "stream",
          "text": [
            "타입: torch.FloatTensor\n",
            "크기: torch.Size([2, 3])\n",
            "값: \n",
            "tensor([[ 0.0461,  0.4024, -1.0115],\n",
            "        [ 0.2167, -0.6123,  0.5036]])\n"
          ]
        }
      ],
      "source": [
        "describe(torch.randn(2, 3))"
      ]
    },
    {
      "cell_type": "markdown",
      "metadata": {
        "id": "5c9s7kNXDfFF"
      },
      "source": [
        "특정 크기의 랜덤한 텐서를 만드느 것이 일반적입니다."
      ]
    },
    {
      "cell_type": "code",
      "execution_count": null,
      "metadata": {
        "colab": {
          "base_uri": "https://localhost:8080/"
        },
        "id": "4AEQYJgrDfFF",
        "outputId": "dad91003-5ebe-4dd0-ceb7-66cb498e7090"
      },
      "outputs": [
        {
          "name": "stdout",
          "output_type": "stream",
          "text": [
            "타입: torch.FloatTensor\n",
            "크기: torch.Size([2, 3])\n",
            "값: \n",
            "tensor([[0.7749, 0.8208, 0.2793],\n",
            "        [0.6817, 0.2837, 0.6567]])\n"
          ]
        }
      ],
      "source": [
        "x = torch.rand(2, 3)\n",
        "describe(x)"
      ]
    },
    {
      "cell_type": "markdown",
      "metadata": {
        "id": "iIzOCVhdDfFF"
      },
      "source": [
        "1이나 0으로 채워진 텐서를 만들 수도 있습니다."
      ]
    },
    {
      "cell_type": "code",
      "execution_count": null,
      "metadata": {
        "colab": {
          "base_uri": "https://localhost:8080/"
        },
        "id": "u29vCxP1DfFF",
        "outputId": "9f94d9a5-86be-4d3a-fc54-fa6a6fdd4c52"
      },
      "outputs": [
        {
          "name": "stdout",
          "output_type": "stream",
          "text": [
            "타입: torch.FloatTensor\n",
            "크기: torch.Size([2, 3])\n",
            "값: \n",
            "tensor([[0., 0., 0.],\n",
            "        [0., 0., 0.]])\n",
            "타입: torch.FloatTensor\n",
            "크기: torch.Size([2, 3])\n",
            "값: \n",
            "tensor([[1., 1., 1.],\n",
            "        [1., 1., 1.]])\n",
            "타입: torch.FloatTensor\n",
            "크기: torch.Size([2, 3])\n",
            "값: \n",
            "tensor([[5., 5., 5.],\n",
            "        [5., 5., 5.]])\n"
          ]
        }
      ],
      "source": [
        "describe(torch.zeros(2, 3))\n",
        "x = torch.ones(2, 3)\n",
        "describe(x)\n",
        "x.fill_(5)\n",
        "describe(x)"
      ]
    },
    {
      "cell_type": "markdown",
      "metadata": {
        "id": "C939tM02DfFF"
      },
      "source": [
        "텐서를 초기화한 후 값을 바꿀 수 있습니다.\n",
        "\n",
        "노트: 밑줄 문자(`_`)로 끝나는 연산은 인-플레이스 연산입니다."
      ]
    },
    {
      "cell_type": "code",
      "execution_count": null,
      "metadata": {
        "colab": {
          "base_uri": "https://localhost:8080/"
        },
        "id": "v33cNdk_DfFF",
        "outputId": "cd2905a0-7642-4d6d-f268-95bd9dad5115"
      },
      "outputs": [
        {
          "name": "stdout",
          "output_type": "stream",
          "text": [
            "torch.FloatTensor\n",
            "torch.Size([3, 4])\n",
            "tensor([[5., 5., 5., 5.],\n",
            "        [5., 5., 5., 5.],\n",
            "        [5., 5., 5., 5.]])\n"
          ]
        }
      ],
      "source": [
        "x = torch.Tensor(3,4).fill_(5)\n",
        "print(x.type())\n",
        "print(x.shape)\n",
        "print(x)"
      ]
    },
    {
      "cell_type": "markdown",
      "metadata": {
        "id": "pc3Y2SALDfFG"
      },
      "source": [
        "리스트의 리스트로 텐서를 만들 수 있습니다."
      ]
    },
    {
      "cell_type": "code",
      "execution_count": null,
      "metadata": {
        "colab": {
          "base_uri": "https://localhost:8080/"
        },
        "id": "nTNN39riDfFG",
        "outputId": "e806755b-4f20-44f1-fa65-535b1dd9ee6b"
      },
      "outputs": [
        {
          "name": "stdout",
          "output_type": "stream",
          "text": [
            "타입: torch.FloatTensor\n",
            "크기: torch.Size([2, 2])\n",
            "값: \n",
            "tensor([[1., 2.],\n",
            "        [2., 4.]])\n"
          ]
        }
      ],
      "source": [
        "x = torch.Tensor([[1, 2,],  \n",
        "                  [2, 4,]])\n",
        "describe(x)"
      ]
    },
    {
      "cell_type": "markdown",
      "metadata": {
        "id": "3vQnCpTxDfFG"
      },
      "source": [
        "넘파이 배열로 텐서를 만들 수 있습니다."
      ]
    },
    {
      "cell_type": "code",
      "execution_count": null,
      "metadata": {
        "colab": {
          "base_uri": "https://localhost:8080/"
        },
        "id": "WpwvePstDfFG",
        "outputId": "38bb32ec-57d7-4a13-941e-f465b109349a"
      },
      "outputs": [
        {
          "name": "stdout",
          "output_type": "stream",
          "text": [
            "타입: torch.DoubleTensor\n",
            "크기: torch.Size([2, 3])\n",
            "값: \n",
            "tensor([[0.0230, 0.7383, 0.6466],\n",
            "        [0.9684, 0.6393, 0.9695]], dtype=torch.float64)\n",
            "float64\n"
          ]
        }
      ],
      "source": [
        "npy = np.random.rand(2, 3)\n",
        "describe(torch.from_numpy(npy))\n",
        "print(npy.dtype)"
      ]
    },
    {
      "cell_type": "markdown",
      "metadata": {
        "id": "wdxdtkfyDfFG"
      },
      "source": [
        "#### 텐서 타입"
      ]
    },
    {
      "cell_type": "markdown",
      "metadata": {
        "id": "ZGIJRUQkDfFG"
      },
      "source": [
        "The FloatTensor has been the default tensor that we have been creating all along"
      ]
    },
    {
      "cell_type": "code",
      "execution_count": null,
      "metadata": {
        "colab": {
          "base_uri": "https://localhost:8080/"
        },
        "id": "WB-IvMwVDfFG",
        "outputId": "12f93e0b-03a6-4ee6-f0bc-bee101278f7b"
      },
      "outputs": [
        {
          "name": "stdout",
          "output_type": "stream",
          "text": [
            "타입: torch.LongTensor\n",
            "크기: torch.Size([2, 3])\n",
            "값: \n",
            "tensor([[0, 1, 2],\n",
            "        [3, 4, 5]])\n"
          ]
        }
      ],
      "source": [
        "import torch\n",
        "x = torch.arange(6).view(2, 3)\n",
        "describe(x)"
      ]
    },
    {
      "cell_type": "code",
      "execution_count": null,
      "metadata": {
        "colab": {
          "base_uri": "https://localhost:8080/"
        },
        "id": "0jvQdQMpDfFH",
        "outputId": "e54559ed-4064-4aba-b2f8-e6f2dab58bf3"
      },
      "outputs": [
        {
          "name": "stdout",
          "output_type": "stream",
          "text": [
            "타입: torch.FloatTensor\n",
            "크기: torch.Size([2, 3])\n",
            "값: \n",
            "tensor([[1., 2., 3.],\n",
            "        [4., 5., 6.]])\n",
            "타입: torch.LongTensor\n",
            "크기: torch.Size([2, 3])\n",
            "값: \n",
            "tensor([[1, 2, 3],\n",
            "        [4, 5, 6]])\n",
            "타입: torch.LongTensor\n",
            "크기: torch.Size([2, 3])\n",
            "값: \n",
            "tensor([[1, 2, 3],\n",
            "        [4, 5, 6]])\n",
            "타입: torch.FloatTensor\n",
            "크기: torch.Size([2, 3])\n",
            "값: \n",
            "tensor([[1., 2., 3.],\n",
            "        [4., 5., 6.]])\n"
          ]
        }
      ],
      "source": [
        "x = torch.FloatTensor([[1, 2, 3],  \n",
        "                       [4, 5, 6]])\n",
        "describe(x)\n",
        "\n",
        "x = x.long()\n",
        "describe(x)\n",
        "\n",
        "x = torch.tensor([[1, 2, 3], \n",
        "                  [4, 5, 6]], dtype=torch.int64)\n",
        "describe(x)\n",
        "\n",
        "x = x.float() \n",
        "describe(x)"
      ]
    },
    {
      "cell_type": "code",
      "execution_count": null,
      "metadata": {
        "colab": {
          "base_uri": "https://localhost:8080/"
        },
        "id": "sbBiaEgKDfFH",
        "outputId": "f3efe6ea-7372-44fc-9f62-07464f456eeb"
      },
      "outputs": [
        {
          "name": "stdout",
          "output_type": "stream",
          "text": [
            "타입: torch.FloatTensor\n",
            "크기: torch.Size([2, 3])\n",
            "값: \n",
            "tensor([[ 1.5385, -0.9757,  1.5769],\n",
            "        [ 0.3840, -0.6039, -0.5240]])\n"
          ]
        }
      ],
      "source": [
        "x = torch.randn(2, 3)\n",
        "describe(x)"
      ]
    },
    {
      "cell_type": "code",
      "execution_count": null,
      "metadata": {
        "colab": {
          "base_uri": "https://localhost:8080/"
        },
        "id": "6xlpKMVKDfFH",
        "outputId": "63cf8e42-0955-48ad-9dc5-98da5913e2d9"
      },
      "outputs": [
        {
          "name": "stdout",
          "output_type": "stream",
          "text": [
            "타입: torch.FloatTensor\n",
            "크기: torch.Size([2, 3])\n",
            "값: \n",
            "tensor([[ 3.0771, -1.9515,  3.1539],\n",
            "        [ 0.7680, -1.2077, -1.0479]])\n"
          ]
        }
      ],
      "source": [
        "describe(torch.add(x, x))"
      ]
    },
    {
      "cell_type": "code",
      "execution_count": null,
      "metadata": {
        "colab": {
          "base_uri": "https://localhost:8080/"
        },
        "id": "CGJijYk5DfFH",
        "outputId": "e6f3bfc4-a032-445e-8dc8-6670d0083f2a"
      },
      "outputs": [
        {
          "name": "stdout",
          "output_type": "stream",
          "text": [
            "타입: torch.FloatTensor\n",
            "크기: torch.Size([2, 3])\n",
            "값: \n",
            "tensor([[ 3.0771, -1.9515,  3.1539],\n",
            "        [ 0.7680, -1.2077, -1.0479]])\n"
          ]
        }
      ],
      "source": [
        "describe(x + x)"
      ]
    },
    {
      "cell_type": "code",
      "execution_count": null,
      "metadata": {
        "colab": {
          "base_uri": "https://localhost:8080/"
        },
        "id": "f0s3hHpgDfFH",
        "outputId": "60b34365-8d6a-4265-fde9-3025dea35d8d"
      },
      "outputs": [
        {
          "name": "stdout",
          "output_type": "stream",
          "text": [
            "타입: torch.LongTensor\n",
            "크기: torch.Size([6])\n",
            "값: \n",
            "tensor([0, 1, 2, 3, 4, 5])\n"
          ]
        }
      ],
      "source": [
        "x = torch.arange(6)\n",
        "describe(x)"
      ]
    },
    {
      "cell_type": "code",
      "execution_count": null,
      "metadata": {
        "colab": {
          "base_uri": "https://localhost:8080/"
        },
        "id": "88G1laBLDfFI",
        "outputId": "fb62b95c-c6f4-48a2-dfa2-99b98c03e5b1"
      },
      "outputs": [
        {
          "name": "stdout",
          "output_type": "stream",
          "text": [
            "타입: torch.LongTensor\n",
            "크기: torch.Size([2, 3])\n",
            "값: \n",
            "tensor([[0, 1, 2],\n",
            "        [3, 4, 5]])\n"
          ]
        }
      ],
      "source": [
        "x = x.view(2, 3)\n",
        "describe(x)"
      ]
    },
    {
      "cell_type": "code",
      "execution_count": null,
      "metadata": {
        "colab": {
          "base_uri": "https://localhost:8080/"
        },
        "id": "nbjiBGRMDfFI",
        "outputId": "dad55c79-14f0-4d60-c1f8-11df2cf90205"
      },
      "outputs": [
        {
          "name": "stdout",
          "output_type": "stream",
          "text": [
            "타입: torch.LongTensor\n",
            "크기: torch.Size([3])\n",
            "값: \n",
            "tensor([3, 5, 7])\n",
            "타입: torch.LongTensor\n",
            "크기: torch.Size([2])\n",
            "값: \n",
            "tensor([ 3, 12])\n"
          ]
        }
      ],
      "source": [
        "describe(torch.sum(x, dim=0))\n",
        "describe(torch.sum(x, dim=1))"
      ]
    },
    {
      "cell_type": "code",
      "execution_count": null,
      "metadata": {
        "colab": {
          "base_uri": "https://localhost:8080/"
        },
        "id": "_mQRAkzrDfFI",
        "outputId": "f060b64d-a481-42a7-f71f-c99cbe068fca"
      },
      "outputs": [
        {
          "name": "stdout",
          "output_type": "stream",
          "text": [
            "타입: torch.LongTensor\n",
            "크기: torch.Size([3, 2])\n",
            "값: \n",
            "tensor([[0, 3],\n",
            "        [1, 4],\n",
            "        [2, 5]])\n"
          ]
        }
      ],
      "source": [
        "describe(torch.transpose(x, 0, 1))"
      ]
    },
    {
      "cell_type": "code",
      "execution_count": null,
      "metadata": {
        "colab": {
          "base_uri": "https://localhost:8080/"
        },
        "id": "YgAFiypRDfFI",
        "outputId": "ad46cc23-9d0d-4bdc-da6e-17a306c73bec",
        "scrolled": true
      },
      "outputs": [
        {
          "name": "stdout",
          "output_type": "stream",
          "text": [
            "타입: torch.LongTensor\n",
            "크기: torch.Size([2, 3])\n",
            "값: \n",
            "tensor([[0, 1, 2],\n",
            "        [3, 4, 5]])\n",
            "타입: torch.LongTensor\n",
            "크기: torch.Size([1, 2])\n",
            "값: \n",
            "tensor([[0, 1]])\n",
            "타입: torch.LongTensor\n",
            "크기: torch.Size([])\n",
            "값: \n",
            "1\n"
          ]
        }
      ],
      "source": [
        "import torch\n",
        "x = torch.arange(6).view(2, 3)\n",
        "describe(x)\n",
        "describe(x[:1, :2])\n",
        "describe(x[0, 1])"
      ]
    },
    {
      "cell_type": "code",
      "execution_count": null,
      "metadata": {
        "colab": {
          "base_uri": "https://localhost:8080/"
        },
        "id": "NvCZGX_8DfFI",
        "outputId": "5013c689-fe94-42eb-c115-8c9419fb31d9"
      },
      "outputs": [
        {
          "name": "stdout",
          "output_type": "stream",
          "text": [
            "타입: torch.LongTensor\n",
            "크기: torch.Size([2, 2])\n",
            "값: \n",
            "tensor([[0, 2],\n",
            "        [3, 5]])\n"
          ]
        }
      ],
      "source": [
        "indices = torch.LongTensor([0, 2])\n",
        "describe(torch.index_select(x, dim=1, index=indices))"
      ]
    },
    {
      "cell_type": "code",
      "execution_count": null,
      "metadata": {
        "colab": {
          "base_uri": "https://localhost:8080/"
        },
        "id": "iTpVPkhxDfFJ",
        "outputId": "f62c372d-ef20-4113-adca-7696c5b7d07a"
      },
      "outputs": [
        {
          "name": "stdout",
          "output_type": "stream",
          "text": [
            "타입: torch.LongTensor\n",
            "크기: torch.Size([2, 3])\n",
            "값: \n",
            "tensor([[0, 1, 2],\n",
            "        [0, 1, 2]])\n"
          ]
        }
      ],
      "source": [
        "indices = torch.LongTensor([0, 0])\n",
        "describe(torch.index_select(x, dim=0, index=indices))"
      ]
    },
    {
      "cell_type": "code",
      "execution_count": null,
      "metadata": {
        "colab": {
          "base_uri": "https://localhost:8080/"
        },
        "id": "Sfeln-sXDfFJ",
        "outputId": "87990924-cd33-45ef-f1df-475101f79cf0"
      },
      "outputs": [
        {
          "name": "stdout",
          "output_type": "stream",
          "text": [
            "타입: torch.LongTensor\n",
            "크기: torch.Size([2])\n",
            "값: \n",
            "tensor([0, 4])\n"
          ]
        }
      ],
      "source": [
        "row_indices = torch.arange(2).long()\n",
        "col_indices = torch.LongTensor([0, 1])\n",
        "describe(x[row_indices, col_indices])"
      ]
    },
    {
      "cell_type": "markdown",
      "metadata": {
        "id": "iEhb3By-DfFJ"
      },
      "source": [
        "인덱싱 연산에는 넘파이 `int64` 타입에 해당하는 LongTensor가 사용됩니다."
      ]
    },
    {
      "cell_type": "code",
      "execution_count": null,
      "metadata": {
        "colab": {
          "base_uri": "https://localhost:8080/"
        },
        "id": "B9rJPAAKDfFJ",
        "outputId": "adb4542c-0c98-4ce6-a046-f630dc23ea36"
      },
      "outputs": [
        {
          "name": "stdout",
          "output_type": "stream",
          "text": [
            "타입: torch.LongTensor\n",
            "크기: torch.Size([3, 3])\n",
            "값: \n",
            "tensor([[1, 2, 3],\n",
            "        [4, 5, 6],\n",
            "        [7, 8, 9]])\n",
            "torch.int64\n",
            "int64\n"
          ]
        }
      ],
      "source": [
        "x = torch.LongTensor([[1, 2, 3],  \n",
        "                      [4, 5, 6],\n",
        "                      [7, 8, 9]])\n",
        "describe(x)\n",
        "print(x.dtype)\n",
        "print(x.numpy().dtype)"
      ]
    },
    {
      "cell_type": "markdown",
      "metadata": {
        "id": "UG-4ZqN-DfFJ"
      },
      "source": [
        "FloatTensor를 LongTensor로 바꿀 수 있습니다."
      ]
    },
    {
      "cell_type": "code",
      "execution_count": null,
      "metadata": {
        "colab": {
          "base_uri": "https://localhost:8080/"
        },
        "id": "QpEzMT7jDfFJ",
        "outputId": "daf42bc7-4548-4812-e50a-7946eaf5b0c6"
      },
      "outputs": [
        {
          "name": "stdout",
          "output_type": "stream",
          "text": [
            "타입: torch.LongTensor\n",
            "크기: torch.Size([3, 3])\n",
            "값: \n",
            "tensor([[1, 2, 3],\n",
            "        [4, 5, 6],\n",
            "        [7, 8, 9]])\n"
          ]
        }
      ],
      "source": [
        "x = torch.FloatTensor([[1, 2, 3],  \n",
        "                       [4, 5, 6],\n",
        "                       [7, 8, 9]])\n",
        "x = x.long()\n",
        "describe(x)"
      ]
    },
    {
      "cell_type": "markdown",
      "metadata": {
        "id": "EQ3BO5GgDfFK"
      },
      "source": [
        "### 특별한 텐서 초기화"
      ]
    },
    {
      "cell_type": "markdown",
      "metadata": {
        "id": "TpW1AlEjDfFK"
      },
      "source": [
        "숫자가 증가되는 벡터를 만들 수 있습니다."
      ]
    },
    {
      "cell_type": "code",
      "execution_count": null,
      "metadata": {
        "colab": {
          "base_uri": "https://localhost:8080/"
        },
        "id": "rFHNHyamDfFK",
        "outputId": "75b90ddb-57d0-4283-c235-66a1497cadbb"
      },
      "outputs": [
        {
          "name": "stdout",
          "output_type": "stream",
          "text": [
            "tensor([0, 1, 2, 3, 4, 5, 6, 7, 8, 9])\n"
          ]
        }
      ],
      "source": [
        "x = torch.arange(0, 10)\n",
        "print(x)"
      ]
    },
    {
      "cell_type": "markdown",
      "metadata": {
        "id": "_J13Eh9fDfFK"
      },
      "source": [
        "이따금 인덱싱을 위해 정수 기반의 배열이 필요합니다."
      ]
    },
    {
      "cell_type": "code",
      "execution_count": null,
      "metadata": {
        "colab": {
          "base_uri": "https://localhost:8080/"
        },
        "id": "cXIa5mIZDfFK",
        "outputId": "bc850783-866e-4911-9bde-00f8b3457b4d"
      },
      "outputs": [
        {
          "name": "stdout",
          "output_type": "stream",
          "text": [
            "tensor([0, 1, 2, 3, 4, 5, 6, 7, 8, 9])\n"
          ]
        }
      ],
      "source": [
        "x = torch.arange(0, 10).long()\n",
        "print(x)"
      ]
    },
    {
      "cell_type": "markdown",
      "metadata": {
        "id": "nTKUDhoADfFM"
      },
      "source": [
        "## 연산\n",
        "\n",
        "텐서로 선형 대수 계산을 하는 것은 최신 딥러닝 기술의 기초가 되었습니다."
      ]
    },
    {
      "cell_type": "markdown",
      "metadata": {
        "id": "w_tiqDk7DfFM"
      },
      "source": [
        "파이토치의 `view` 메서드를 사용하면 원소의 순서를 유지하면서 텐서의 차원을 자유롭게 바꿀 수 있습니다."
      ]
    },
    {
      "cell_type": "code",
      "execution_count": null,
      "metadata": {
        "colab": {
          "base_uri": "https://localhost:8080/"
        },
        "id": "71MANkgdDfFM",
        "outputId": "8760b1af-7336-42c8-83c6-5598068f3259"
      },
      "outputs": [
        {
          "name": "stdout",
          "output_type": "stream",
          "text": [
            "tensor([[ 0,  1,  2,  3,  4,  5,  6,  7,  8,  9, 10, 11, 12, 13, 14, 15, 16, 17,\n",
            "         18, 19]])\n",
            "tensor([[ 0,  1,  2,  3,  4,  5,  6,  7,  8,  9],\n",
            "        [10, 11, 12, 13, 14, 15, 16, 17, 18, 19]])\n",
            "tensor([[ 0,  1,  2,  3,  4],\n",
            "        [ 5,  6,  7,  8,  9],\n",
            "        [10, 11, 12, 13, 14],\n",
            "        [15, 16, 17, 18, 19]])\n",
            "tensor([[ 0,  1,  2,  3],\n",
            "        [ 4,  5,  6,  7],\n",
            "        [ 8,  9, 10, 11],\n",
            "        [12, 13, 14, 15],\n",
            "        [16, 17, 18, 19]])\n",
            "tensor([[ 0,  1],\n",
            "        [ 2,  3],\n",
            "        [ 4,  5],\n",
            "        [ 6,  7],\n",
            "        [ 8,  9],\n",
            "        [10, 11],\n",
            "        [12, 13],\n",
            "        [14, 15],\n",
            "        [16, 17],\n",
            "        [18, 19]])\n",
            "tensor([[ 0],\n",
            "        [ 1],\n",
            "        [ 2],\n",
            "        [ 3],\n",
            "        [ 4],\n",
            "        [ 5],\n",
            "        [ 6],\n",
            "        [ 7],\n",
            "        [ 8],\n",
            "        [ 9],\n",
            "        [10],\n",
            "        [11],\n",
            "        [12],\n",
            "        [13],\n",
            "        [14],\n",
            "        [15],\n",
            "        [16],\n",
            "        [17],\n",
            "        [18],\n",
            "        [19]])\n"
          ]
        }
      ],
      "source": [
        "x = torch.arange(0, 20)\n",
        "\n",
        "print(x.view(1, 20))\n",
        "print(x.view(2, 10))\n",
        "print(x.view(4, 5))\n",
        "print(x.view(5, 4))\n",
        "print(x.view(10, 2))\n",
        "print(x.view(20, 1))"
      ]
    },
    {
      "cell_type": "markdown",
      "metadata": {
        "id": "rbAcgiKZDfFM"
      },
      "source": [
        "뷰를 사용하여 크기가 1인 차원을 추가할 수 있습니다. 이렇게 하면 다른 텐서와 연산할 때 브로드캐스팅을 활용할 수 있습니다."
      ]
    },
    {
      "cell_type": "code",
      "execution_count": null,
      "metadata": {
        "colab": {
          "base_uri": "https://localhost:8080/"
        },
        "id": "RoL7fCUjDfFM",
        "outputId": "c634df22-d420-4cb9-b9a9-ef53e6570113"
      },
      "outputs": [
        {
          "name": "stdout",
          "output_type": "stream",
          "text": [
            "tensor([[ 0,  1,  2,  3],\n",
            "        [ 4,  5,  6,  7],\n",
            "        [ 8,  9, 10, 11]])\n",
            "tensor([[0, 1, 2, 3]])\n",
            "tensor([[0],\n",
            "        [1],\n",
            "        [2]])\n",
            "tensor([[ 0,  2,  4,  6],\n",
            "        [ 4,  6,  8, 10],\n",
            "        [ 8, 10, 12, 14]])\n",
            "tensor([[ 0,  1,  2,  3],\n",
            "        [ 5,  6,  7,  8],\n",
            "        [10, 11, 12, 13]])\n"
          ]
        }
      ],
      "source": [
        "x = torch.arange(12).view(3, 4)\n",
        "y = torch.arange(4).view(1, 4)\n",
        "z = torch.arange(3).view(3, 1)\n",
        "\n",
        "print(x)\n",
        "print(y)\n",
        "print(z)\n",
        "print(x + y)\n",
        "print(x + z)"
      ]
    },
    {
      "cell_type": "markdown",
      "metadata": {
        "id": "8zLcI2aSDfFM"
      },
      "source": [
        "`unsqueeze`와 `squeeze`는 크기가 1인 차원을 추가하고 삭제합니다."
      ]
    },
    {
      "cell_type": "code",
      "execution_count": null,
      "metadata": {
        "colab": {
          "base_uri": "https://localhost:8080/"
        },
        "id": "bNO-QFCtDfFM",
        "outputId": "5759fa45-53c5-446d-950b-7f1bc6586720"
      },
      "outputs": [
        {
          "name": "stdout",
          "output_type": "stream",
          "text": [
            "torch.Size([3, 4])\n",
            "torch.Size([3, 1, 4])\n",
            "torch.Size([3, 4])\n"
          ]
        }
      ],
      "source": [
        "x = torch.arange(12).view(3, 4)\n",
        "print(x.shape)\n",
        "\n",
        "x = x.unsqueeze(dim=1)\n",
        "print(x.shape)\n",
        "\n",
        "x = x.squeeze()\n",
        "print(x.shape)"
      ]
    },
    {
      "cell_type": "markdown",
      "metadata": {
        "id": "mvS_pKrSDfFN"
      },
      "source": [
        "표준 수학 연산을 모두 지원합니다(예를 들어 `add`)."
      ]
    },
    {
      "cell_type": "code",
      "execution_count": null,
      "metadata": {
        "colab": {
          "base_uri": "https://localhost:8080/"
        },
        "id": "z9nZxIEZDfFN",
        "outputId": "307a1367-26a9-4fe2-bd5b-2628273e7d86"
      },
      "outputs": [
        {
          "name": "stdout",
          "output_type": "stream",
          "text": [
            "x: \n",
            " tensor([[0.6662, 0.3343, 0.7893, 0.3216],\n",
            "        [0.5247, 0.6688, 0.8436, 0.4265],\n",
            "        [0.9561, 0.0770, 0.4108, 0.0014]])\n",
            "--\n",
            "torch.add(x, x): \n",
            " tensor([[1.3324, 0.6686, 1.5786, 0.6433],\n",
            "        [1.0494, 1.3377, 1.6872, 0.8530],\n",
            "        [1.9123, 0.1540, 0.8216, 0.0028]])\n",
            "--\n",
            "x+x: \n",
            " tensor([[1.3324, 0.6686, 1.5786, 0.6433],\n",
            "        [1.0494, 1.3377, 1.6872, 0.8530],\n",
            "        [1.9123, 0.1540, 0.8216, 0.0028]])\n"
          ]
        }
      ],
      "source": [
        "x = torch.rand(3,4)\n",
        "print(\"x: \\n\", x)\n",
        "print(\"--\")\n",
        "print(\"torch.add(x, x): \\n\", torch.add(x, x))\n",
        "print(\"--\")\n",
        "print(\"x+x: \\n\", x + x)"
      ]
    },
    {
      "cell_type": "markdown",
      "metadata": {
        "id": "J8RE2hcdDfFN"
      },
      "source": [
        "메서드 이름 끝에 `_` 문자가 있으면 인-플레이스(in-place) 연산을 의미합니다.\n",
        "\n",
        "> 인플레이스란? : 리턴값을 주는게 아니라 내 자신(Self)을 변경시키는 방식"
      ]
    },
    {
      "cell_type": "code",
      "execution_count": null,
      "metadata": {
        "colab": {
          "base_uri": "https://localhost:8080/"
        },
        "id": "gsCOC6wjDfFN",
        "outputId": "b187b9be-bd66-4499-d813-ee6955d85f5b"
      },
      "outputs": [
        {
          "name": "stdout",
          "output_type": "stream",
          "text": [
            "tensor([[ 0,  1,  2,  3],\n",
            "        [ 4,  5,  6,  7],\n",
            "        [ 8,  9, 10, 11]])\n",
            "tensor([[ 0,  2,  4,  6],\n",
            "        [ 8, 10, 12, 14],\n",
            "        [16, 18, 20, 22]])\n"
          ]
        }
      ],
      "source": [
        "x = torch.arange(12).reshape(3, 4)\n",
        "print(x)\n",
        "print(x.add_(x))"
      ]
    },
    {
      "cell_type": "markdown",
      "metadata": {
        "id": "C992LbD5DfFN"
      },
      "source": [
        "차원을 줄이는 연산이 많이 있습니다. 예를 들면 `sum`입니다."
      ]
    },
    {
      "cell_type": "code",
      "execution_count": null,
      "metadata": {
        "colab": {
          "base_uri": "https://localhost:8080/"
        },
        "id": "rv4AXfGMDfFN",
        "outputId": "0cbf545f-a149-45ac-8e0d-64a861c15fe5"
      },
      "outputs": [
        {
          "name": "stdout",
          "output_type": "stream",
          "text": [
            "x: \n",
            " tensor([[ 0,  1,  2,  3],\n",
            "        [ 4,  5,  6,  7],\n",
            "        [ 8,  9, 10, 11]])\n",
            "---\n",
            "행을 따라 덧셈 (dim=0): \n",
            " tensor([12, 15, 18, 21])\n",
            "---\n",
            "열을 따라 덧셈 (dim=1): \n",
            " tensor([ 6, 22, 38])\n"
          ]
        }
      ],
      "source": [
        "x = torch.arange(12).reshape(3, 4)\n",
        "print(\"x: \\n\", x)\n",
        "print(\"---\")\n",
        "print(\"행을 따라 덧셈 (dim=0): \\n\", x.sum(dim=0))\n",
        "print(\"---\")\n",
        "print(\"열을 따라 덧셈 (dim=1): \\n\", x.sum(dim=1))"
      ]
    },
    {
      "cell_type": "markdown",
      "metadata": {
        "id": "7jjx2t0HDfFN"
      },
      "source": [
        "#### 인덱싱, 슬라이싱, 연결, 수정"
      ]
    },
    {
      "cell_type": "code",
      "execution_count": null,
      "metadata": {
        "colab": {
          "base_uri": "https://localhost:8080/"
        },
        "id": "a2rHji1FDfFO",
        "outputId": "320a4e0d-8e7b-449f-d0eb-fe4572ab23c2"
      },
      "outputs": [
        {
          "name": "stdout",
          "output_type": "stream",
          "text": [
            "x: \n",
            " tensor([[0, 1, 2],\n",
            "        [3, 4, 5]])\n",
            "---\n",
            "x[:2, :2]: \n",
            " tensor([[0, 1],\n",
            "        [3, 4]])\n",
            "---\n",
            "x[0][1]: \n",
            " tensor(1)\n",
            "---\n",
            "[0][1]에 8을 할당\n",
            "tensor([[0, 8, 2],\n",
            "        [3, 4, 5]])\n"
          ]
        }
      ],
      "source": [
        "x = torch.arange(6).view(2, 3)\n",
        "print(\"x: \\n\", x)\n",
        "print(\"---\")\n",
        "print(\"x[:2, :2]: \\n\", x[:2, :2])\n",
        "print(\"---\")\n",
        "print(\"x[0][1]: \\n\", x[0][1])\n",
        "print(\"---\")\n",
        "print(\"[0][1]에 8을 할당\")\n",
        "x[0][1] = 8\n",
        "print(x)"
      ]
    },
    {
      "cell_type": "markdown",
      "metadata": {
        "id": "t68FtrfMDfFO"
      },
      "source": [
        "`index_select`을 사용해 텐서의 원소를 선택할 수 있습니다."
      ]
    },
    {
      "cell_type": "code",
      "execution_count": null,
      "metadata": {
        "colab": {
          "base_uri": "https://localhost:8080/"
        },
        "id": "boFNyit0DfFO",
        "outputId": "3de6a3f1-bba8-438a-df36-27bfd98cb42e"
      },
      "outputs": [
        {
          "name": "stdout",
          "output_type": "stream",
          "text": [
            "tensor([[0, 1, 2],\n",
            "        [3, 4, 5],\n",
            "        [6, 7, 8]])\n",
            "---\n",
            "tensor([[0, 1, 2],\n",
            "        [6, 7, 8]])\n",
            "---\n",
            "tensor([[0, 2],\n",
            "        [3, 5],\n",
            "        [6, 8]])\n"
          ]
        }
      ],
      "source": [
        "x = torch.arange(9).view(3,3)\n",
        "print(x)\n",
        "\n",
        "print(\"---\")\n",
        "indices = torch.LongTensor([0, 2])\n",
        "print(torch.index_select(x, dim=0, index=indices))\n",
        "\n",
        "print(\"---\")\n",
        "indices = torch.LongTensor([0, 2])\n",
        "print(torch.index_select(x, dim=1, index=indices))"
      ]
    },
    {
      "cell_type": "markdown",
      "metadata": {
        "id": "8KCr_SbJDfFO"
      },
      "source": [
        "넘파이 스타일의 인덱싱도 사용할 수 있습니다."
      ]
    },
    {
      "cell_type": "code",
      "execution_count": null,
      "metadata": {
        "colab": {
          "base_uri": "https://localhost:8080/"
        },
        "id": "akC_r8WtDfFO",
        "outputId": "a8b59edc-e392-4535-823e-cdc5522cb080"
      },
      "outputs": [
        {
          "name": "stdout",
          "output_type": "stream",
          "text": [
            "tensor([[0, 1, 2],\n",
            "        [6, 7, 8]])\n",
            "---\n",
            "tensor([[0, 1, 2],\n",
            "        [6, 7, 8]])\n",
            "---\n",
            "tensor([[0, 2],\n",
            "        [3, 5],\n",
            "        [6, 8]])\n"
          ]
        }
      ],
      "source": [
        "x = torch.arange(9).view(3,3)\n",
        "indices = torch.LongTensor([0, 2])\n",
        "\n",
        "print(x[indices])\n",
        "print(\"---\")\n",
        "print(x[indices, :])\n",
        "print(\"---\")\n",
        "print(x[:, indices])"
      ]
    },
    {
      "cell_type": "markdown",
      "metadata": {
        "id": "5SmHTNlbDfFP"
      },
      "source": [
        "텐서를 연결할 수 있습니다. 먼저 행을 따라 열결합니다."
      ]
    },
    {
      "cell_type": "code",
      "execution_count": null,
      "metadata": {
        "colab": {
          "base_uri": "https://localhost:8080/"
        },
        "id": "9O39OlccDfFP",
        "outputId": "519bf4d6-809b-4600-91cc-c69ad8fa7ab0"
      },
      "outputs": [
        {
          "name": "stdout",
          "output_type": "stream",
          "text": [
            "타입: torch.LongTensor\n",
            "크기: torch.Size([2, 3])\n",
            "값: \n",
            "tensor([[0, 1, 2],\n",
            "        [3, 4, 5]])\n",
            "타입: torch.LongTensor\n",
            "크기: torch.Size([4, 3])\n",
            "값: \n",
            "tensor([[0, 1, 2],\n",
            "        [3, 4, 5],\n",
            "        [0, 1, 2],\n",
            "        [3, 4, 5]])\n",
            "타입: torch.LongTensor\n",
            "크기: torch.Size([2, 6])\n",
            "값: \n",
            "tensor([[0, 1, 2, 0, 1, 2],\n",
            "        [3, 4, 5, 3, 4, 5]])\n",
            "타입: torch.LongTensor\n",
            "크기: torch.Size([2, 2, 3])\n",
            "값: \n",
            "tensor([[[0, 1, 2],\n",
            "         [3, 4, 5]],\n",
            "\n",
            "        [[0, 1, 2],\n",
            "         [3, 4, 5]]])\n"
          ]
        }
      ],
      "source": [
        "# concatnate -> torch.cat (이어붙이기)\n",
        "\n",
        "x = torch.arange(6).view(2,3)\n",
        "describe(x)\n",
        "describe(torch.cat([x, x], dim=0))\n",
        "describe(torch.cat([x, x], dim=1))\n",
        "describe(torch.stack([x, x]))"
      ]
    },
    {
      "cell_type": "markdown",
      "metadata": {
        "id": "DalRhnB7DfFP"
      },
      "source": [
        "열을 따라 연결할 수 있습니다."
      ]
    },
    {
      "cell_type": "code",
      "execution_count": null,
      "metadata": {
        "colab": {
          "base_uri": "https://localhost:8080/"
        },
        "id": "7AIrhRHzDfFP",
        "outputId": "cbb7bee3-2058-49d1-d016-df18744d7564"
      },
      "outputs": [
        {
          "name": "stdout",
          "output_type": "stream",
          "text": [
            "tensor([[0, 1, 2],\n",
            "        [3, 4, 5],\n",
            "        [6, 7, 8]])\n",
            "---\n",
            "torch.Size([3, 9])\n",
            "tensor([[0, 1, 2, 0, 1, 2, 0, 1, 2],\n",
            "        [3, 4, 5, 3, 4, 5, 3, 4, 5],\n",
            "        [6, 7, 8, 6, 7, 8, 6, 7, 8]])\n"
          ]
        }
      ],
      "source": [
        "x = torch.arange(9).view(3,3)\n",
        "\n",
        "print(x)\n",
        "print(\"---\")\n",
        "new_x = torch.cat([x, x, x], dim=1)\n",
        "print(new_x.shape)\n",
        "print(new_x)"
      ]
    },
    {
      "cell_type": "markdown",
      "metadata": {
        "id": "7lRnTXNfDfFP"
      },
      "source": [
        "텐서를 쌓아 새로운 0번째 차원에 연결할 수 있습니다."
      ]
    },
    {
      "cell_type": "code",
      "execution_count": null,
      "metadata": {
        "colab": {
          "base_uri": "https://localhost:8080/"
        },
        "id": "jcAkU6QiDfFP",
        "outputId": "3ce4d615-3062-46be-8559-2672354e2b20"
      },
      "outputs": [
        {
          "name": "stdout",
          "output_type": "stream",
          "text": [
            "tensor([[0, 1, 2],\n",
            "        [3, 4, 5],\n",
            "        [6, 7, 8]])\n",
            "---\n",
            "torch.Size([3, 3, 3])\n",
            "tensor([[[0, 1, 2],\n",
            "         [3, 4, 5],\n",
            "         [6, 7, 8]],\n",
            "\n",
            "        [[0, 1, 2],\n",
            "         [3, 4, 5],\n",
            "         [6, 7, 8]],\n",
            "\n",
            "        [[0, 1, 2],\n",
            "         [3, 4, 5],\n",
            "         [6, 7, 8]]])\n"
          ]
        }
      ],
      "source": [
        "x = torch.arange(9).view(3,3)\n",
        "print(x)\n",
        "print(\"---\")\n",
        "new_x = torch.stack([x, x, x])\n",
        "print(new_x.shape)\n",
        "print(new_x)"
      ]
    },
    {
      "cell_type": "markdown",
      "metadata": {
        "id": "V51AOVfbDfFQ"
      },
      "source": [
        "#### 선형 대수 텐서 함수"
      ]
    },
    {
      "cell_type": "markdown",
      "metadata": {
        "id": "mqzLByjgDfFQ"
      },
      "source": [
        "전치는 다른 축의 차원을 서로 바꿉니다. 예를 들어 행과 열을 바꿀 수 있습니다."
      ]
    },
    {
      "cell_type": "code",
      "execution_count": null,
      "metadata": {
        "colab": {
          "base_uri": "https://localhost:8080/"
        },
        "id": "dnmysH2gDfFQ",
        "outputId": "538c625d-20e0-407d-885b-62adc7ab9b07"
      },
      "outputs": [
        {
          "name": "stdout",
          "output_type": "stream",
          "text": [
            "x: \n",
            " tensor([[ 0,  1,  2,  3],\n",
            "        [ 4,  5,  6,  7],\n",
            "        [ 8,  9, 10, 11]])\n",
            "---\n",
            "x.tranpose(1, 0): \n",
            " tensor([[ 0,  4,  8],\n",
            "        [ 1,  5,  9],\n",
            "        [ 2,  6, 10],\n",
            "        [ 3,  7, 11]])\n"
          ]
        }
      ],
      "source": [
        "x = torch.arange(0, 12).view(3,4)\n",
        "print(\"x: \\n\", x) \n",
        "print(\"---\")\n",
        "print(\"x.tranpose(1, 0): \\n\", x.transpose(1, 0))"
      ]
    },
    {
      "cell_type": "markdown",
      "metadata": {
        "id": "BNT1dWmODfFQ"
      },
      "source": [
        "3차원 텐서는 시퀀스의 배치로 표현됩니다. 시퀀스에 있는 각 아이템은 하나의 특성 벡터를 가집니다. 시퀀스 모델에서 시퀀스를 쉽게 인덱싱하기 위해 배치 차원과 시퀀스 차원을 바꾸는 일이 종종 있습니다.\n",
        "\n",
        "노트: 전치는 2개의 축을 바꿉니다. `permute`는 여러 축을 다룰 수 있습니다(다음 셀에서 설명합니다)."
      ]
    },
    {
      "cell_type": "code",
      "execution_count": null,
      "metadata": {
        "colab": {
          "base_uri": "https://localhost:8080/"
        },
        "id": "DcnkPeAWDfFQ",
        "outputId": "88ba81e8-01c6-43b3-b12c-220cd5e50775"
      },
      "outputs": [
        {
          "name": "stdout",
          "output_type": "stream",
          "text": [
            "x.shape: \n",
            " torch.Size([3, 4, 5])\n",
            "x: \n",
            " tensor([[[ 0,  1,  2,  3,  4],\n",
            "         [ 5,  6,  7,  8,  9],\n",
            "         [10, 11, 12, 13, 14],\n",
            "         [15, 16, 17, 18, 19]],\n",
            "\n",
            "        [[20, 21, 22, 23, 24],\n",
            "         [25, 26, 27, 28, 29],\n",
            "         [30, 31, 32, 33, 34],\n",
            "         [35, 36, 37, 38, 39]],\n",
            "\n",
            "        [[40, 41, 42, 43, 44],\n",
            "         [45, 46, 47, 48, 49],\n",
            "         [50, 51, 52, 53, 54],\n",
            "         [55, 56, 57, 58, 59]]])\n",
            "-----\n",
            "x.transpose(1, 0).shape: \n",
            " torch.Size([4, 3, 5])\n",
            "x.transpose(1, 0): \n",
            " tensor([[[ 0,  1,  2,  3,  4],\n",
            "         [20, 21, 22, 23, 24],\n",
            "         [40, 41, 42, 43, 44]],\n",
            "\n",
            "        [[ 5,  6,  7,  8,  9],\n",
            "         [25, 26, 27, 28, 29],\n",
            "         [45, 46, 47, 48, 49]],\n",
            "\n",
            "        [[10, 11, 12, 13, 14],\n",
            "         [30, 31, 32, 33, 34],\n",
            "         [50, 51, 52, 53, 54]],\n",
            "\n",
            "        [[15, 16, 17, 18, 19],\n",
            "         [35, 36, 37, 38, 39],\n",
            "         [55, 56, 57, 58, 59]]])\n"
          ]
        }
      ],
      "source": [
        "batch_size = 3\n",
        "seq_size = 4\n",
        "feature_size = 5\n",
        "\n",
        "x = torch.arange(batch_size * seq_size * feature_size).view(batch_size, seq_size, feature_size)\n",
        "\n",
        "print(\"x.shape: \\n\", x.shape)\n",
        "print(\"x: \\n\", x)\n",
        "print(\"-----\")\n",
        "\n",
        "print(\"x.transpose(1, 0).shape: \\n\", x.transpose(1, 0).shape)\n",
        "print(\"x.transpose(1, 0): \\n\", x.transpose(1, 0))"
      ]
    },
    {
      "cell_type": "markdown",
      "metadata": {
        "id": "iYW3B4xIDfFQ"
      },
      "source": [
        "`permute`는 전치의 일반화된 버전입니다."
      ]
    },
    {
      "cell_type": "code",
      "execution_count": null,
      "metadata": {
        "colab": {
          "base_uri": "https://localhost:8080/"
        },
        "id": "qoqxMU30DfFQ",
        "outputId": "dff3f5db-cc54-41e2-d863-511327960e0c"
      },
      "outputs": [
        {
          "name": "stdout",
          "output_type": "stream",
          "text": [
            "x.shape: \n",
            " torch.Size([3, 4, 5])\n",
            "x: \n",
            " tensor([[[ 0,  1,  2,  3,  4],\n",
            "         [ 5,  6,  7,  8,  9],\n",
            "         [10, 11, 12, 13, 14],\n",
            "         [15, 16, 17, 18, 19]],\n",
            "\n",
            "        [[20, 21, 22, 23, 24],\n",
            "         [25, 26, 27, 28, 29],\n",
            "         [30, 31, 32, 33, 34],\n",
            "         [35, 36, 37, 38, 39]],\n",
            "\n",
            "        [[40, 41, 42, 43, 44],\n",
            "         [45, 46, 47, 48, 49],\n",
            "         [50, 51, 52, 53, 54],\n",
            "         [55, 56, 57, 58, 59]]])\n",
            "-----\n",
            "x.permute(1, 0, 2).shape: \n",
            " torch.Size([4, 3, 5])\n",
            "x.permute(1, 0, 2): \n",
            " tensor([[[ 0,  1,  2,  3,  4],\n",
            "         [20, 21, 22, 23, 24],\n",
            "         [40, 41, 42, 43, 44]],\n",
            "\n",
            "        [[ 5,  6,  7,  8,  9],\n",
            "         [25, 26, 27, 28, 29],\n",
            "         [45, 46, 47, 48, 49]],\n",
            "\n",
            "        [[10, 11, 12, 13, 14],\n",
            "         [30, 31, 32, 33, 34],\n",
            "         [50, 51, 52, 53, 54]],\n",
            "\n",
            "        [[15, 16, 17, 18, 19],\n",
            "         [35, 36, 37, 38, 39],\n",
            "         [55, 56, 57, 58, 59]]])\n"
          ]
        }
      ],
      "source": [
        "batch_size = 3\n",
        "seq_size = 4\n",
        "feature_size = 5\n",
        "\n",
        "x = torch.arange(batch_size * seq_size * feature_size).view(batch_size, seq_size, feature_size)\n",
        "\n",
        "print(\"x.shape: \\n\", x.shape)\n",
        "print(\"x: \\n\", x)\n",
        "print(\"-----\")\n",
        "\n",
        "print(\"x.permute(1, 0, 2).shape: \\n\", x.permute(1, 0, 2).shape)\n",
        "print(\"x.permute(1, 0, 2): \\n\", x.permute(1, 0, 2))"
      ]
    },
    {
      "cell_type": "markdown",
      "metadata": {
        "id": "-EGjMrPbDfFR"
      },
      "source": [
        "행렬 곱셈은 `mm`입니다."
      ]
    },
    {
      "cell_type": "code",
      "execution_count": null,
      "metadata": {
        "colab": {
          "base_uri": "https://localhost:8080/"
        },
        "id": "xXiEjnXDDfFR",
        "outputId": "cf163b0b-d5a0-4ec5-d243-d5e1d42bab56"
      },
      "outputs": [
        {
          "data": {
            "text/plain": [
              "tensor([[-0.4790,  0.8539, -0.2285],\n",
              "        [ 0.3081,  1.1171,  0.1585]], requires_grad=True)"
            ]
          },
          "execution_count": 44,
          "metadata": {},
          "output_type": "execute_result"
        }
      ],
      "source": [
        "torch.randn(2, 3, requires_grad=True)"
      ]
    },
    {
      "cell_type": "code",
      "execution_count": null,
      "metadata": {
        "colab": {
          "base_uri": "https://localhost:8080/"
        },
        "id": "uqZvkvhcDfFR",
        "outputId": "7be4e40f-100e-4b40-bc1c-38aa9fa55ab5"
      },
      "outputs": [
        {
          "name": "stdout",
          "output_type": "stream",
          "text": [
            "타입: torch.FloatTensor\n",
            "크기: torch.Size([2, 3])\n",
            "값: \n",
            "tensor([[0., 1., 2.],\n",
            "        [3., 4., 5.]])\n",
            "타입: torch.FloatTensor\n",
            "크기: torch.Size([3, 2])\n",
            "값: \n",
            "tensor([[1., 2.],\n",
            "        [1., 2.],\n",
            "        [1., 2.]])\n",
            "타입: torch.FloatTensor\n",
            "크기: torch.Size([2, 2])\n",
            "값: \n",
            "tensor([[ 3.,  6.],\n",
            "        [12., 24.]])\n"
          ]
        }
      ],
      "source": [
        "x1 = torch.arange(6).view(2, 3).float()\n",
        "describe(x1)\n",
        "\n",
        "x2 = torch.ones(3, 2)\n",
        "x2[:, 1] += 1\n",
        "describe(x2)\n",
        "\n",
        "describe(torch.mm(x1, x2))"
      ]
    },
    {
      "cell_type": "code",
      "execution_count": null,
      "metadata": {
        "colab": {
          "base_uri": "https://localhost:8080/"
        },
        "id": "eQgUmEt4DfFR",
        "outputId": "69cf0261-5a89-4c22-b9dc-645e474bf79a"
      },
      "outputs": [
        {
          "name": "stdout",
          "output_type": "stream",
          "text": [
            "tensor([[ 0.,  1.,  2.,  3.],\n",
            "        [ 4.,  5.,  6.,  7.],\n",
            "        [ 8.,  9., 10., 11.]])\n",
            "tensor([[1., 2.],\n",
            "        [1., 2.],\n",
            "        [1., 2.],\n",
            "        [1., 2.]])\n",
            "tensor([[ 6., 12.],\n",
            "        [22., 44.],\n",
            "        [38., 76.]])\n"
          ]
        }
      ],
      "source": [
        "x = torch.arange(0, 12).view(3,4).float()\n",
        "print(x)\n",
        "\n",
        "x2 = torch.ones(4, 2)\n",
        "x2[:, 1] += 1\n",
        "print(x2)\n",
        "\n",
        "print(x.mm(x2))"
      ]
    },
    {
      "cell_type": "markdown",
      "metadata": {
        "id": "XA-_N4saDfFR"
      },
      "source": [
        "더 자세한 내용은 [파이토치 수학 연산 문서](https://pytorch.org/docs/stable/torch.html#math-operations)를 참고하세요!"
      ]
    },
    {
      "cell_type": "markdown",
      "metadata": {
        "id": "yl7YdwQYDfFR"
      },
      "source": [
        "## 그레이디언트 계산"
      ]
    },
    {
      "cell_type": "code",
      "execution_count": null,
      "metadata": {
        "colab": {
          "base_uri": "https://localhost:8080/"
        },
        "id": "FtP22yBFDfFR",
        "outputId": "c07f2711-be58-403e-ab31-ee4f89cfcfe0"
      },
      "outputs": [
        {
          "name": "stdout",
          "output_type": "stream",
          "text": [
            "tensor([[6., 9.]], grad_fn=<MulBackward0>)\n"
          ]
        }
      ],
      "source": [
        "x = torch.tensor([[2.0, 3.0]], requires_grad=True)\n",
        "z = 3 * x\n",
        "print(z)"
      ]
    },
    {
      "cell_type": "markdown",
      "metadata": {
        "id": "qIwdEJ7VDfFR"
      },
      "source": [
        "아래 간단한 코드에서 그레이디언트 계산을 엿볼 수 있습니다. 텐서 하나를 만들고 3을 곱합니다. 그다음 `sum()`을 사용해 스칼라 출력을 만듭니다. 손실 함수에는 스칼라 값이 필요하기 때문입니다. 그다음 손실에 `backward()`를 호출해 입력에 대한 변화율을 계산합니다. `sum()`으로 스칼라 값을 만들었기 때문에 `z`와 `x`에 있는 각 원소는 손실 스칼라 값에 대해 독립적입니다.\n",
        "\n",
        "출력에 대한 `x`의 변화율은 `x`에 곱한 상수 3입니다."
      ]
    },
    {
      "cell_type": "code",
      "execution_count": null,
      "metadata": {
        "colab": {
          "base_uri": "https://localhost:8080/"
        },
        "id": "zR46x_tnDfFS",
        "outputId": "8040dec5-10d8-404e-c70c-a4b7604a6b46"
      },
      "outputs": [
        {
          "name": "stdout",
          "output_type": "stream",
          "text": [
            "x: \n",
            " tensor([[2., 3.]], requires_grad=True)\n",
            "---\n",
            "z = 3*x: \n",
            " tensor([[6., 9.]], grad_fn=<MulBackward0>)\n",
            "---\n",
            "loss = z.sum(): \n",
            " tensor(15., grad_fn=<SumBackward0>)\n",
            "---\n",
            "loss.backward()를 호출한 후, x.grad: \n",
            " tensor([[3., 3.]])\n"
          ]
        }
      ],
      "source": [
        "x = torch.tensor([[2.0, 3.0]], requires_grad=True)\n",
        "print(\"x: \\n\", x)\n",
        "print(\"---\")\n",
        "z = 3 * x\n",
        "print(\"z = 3*x: \\n\", z)\n",
        "print(\"---\")\n",
        "\n",
        "loss = z.sum()\n",
        "print(\"loss = z.sum(): \\n\", loss)\n",
        "print(\"---\")\n",
        "\n",
        "loss.backward()\n",
        "\n",
        "print(\"loss.backward()를 호출한 후, x.grad: \\n\", x.grad)\n"
      ]
    },
    {
      "cell_type": "markdown",
      "metadata": {
        "id": "p0NBgS0eDfFS"
      },
      "source": [
        "### 예제: 조건 그레이디언트 계산하기\n",
        "\n",
        "$$ \\text{x=1에서 f(x)의 그레이디언트 찾기} $$\n",
        "$$ {} $$\n",
        "$$ f(x)=\\left\\{\n",
        "\\begin{array}{ll}\n",
        "    sin(x) \\; x>0 \\text{ 일 때 }\\\\\n",
        "    cos(x) \\text{ 그 외 } \\\\\n",
        "\\end{array}\n",
        "\\right.$$"
      ]
    },
    {
      "cell_type": "code",
      "execution_count": null,
      "metadata": {
        "id": "emEAf6LDDfFS"
      },
      "outputs": [],
      "source": [
        "def f(x):\n",
        "    if (x.data > 0).all():\n",
        "        return torch.sin(x)\n",
        "    else:\n",
        "        return torch.cos(x)"
      ]
    },
    {
      "cell_type": "code",
      "execution_count": null,
      "metadata": {
        "colab": {
          "base_uri": "https://localhost:8080/"
        },
        "id": "0qMWyJmTDfFS",
        "outputId": "aa287f7a-9209-4503-f358-bfa47b323c2e"
      },
      "outputs": [
        {
          "name": "stdout",
          "output_type": "stream",
          "text": [
            "tensor([0.5403])\n"
          ]
        }
      ],
      "source": [
        "x = torch.tensor([1.0], requires_grad=True)\n",
        "y = f(x)\n",
        "y.backward()\n",
        "print(x.grad)"
      ]
    },
    {
      "cell_type": "markdown",
      "metadata": {
        "id": "C3kXW4msDfFS"
      },
      "source": [
        "큰 벡터에 적용할 수 있지만 출력은 스칼라 값이어야 합니다."
      ]
    },
    {
      "cell_type": "code",
      "execution_count": null,
      "metadata": {
        "colab": {
          "base_uri": "https://localhost:8080/",
          "height": 364
        },
        "id": "pGA0rfqiDfFT",
        "outputId": "863f1f1d-9b5c-46f5-b57e-bdb3a683a283"
      },
      "outputs": [
        {
          "ename": "RuntimeError",
          "evalue": "ignored",
          "output_type": "error",
          "traceback": [
            "\u001b[0;31m---------------------------------------------------------------------------\u001b[0m",
            "\u001b[0;31mRuntimeError\u001b[0m                              Traceback (most recent call last)",
            "\u001b[0;32m<ipython-input-51-89cb9bb7a7a9>\u001b[0m in \u001b[0;36m<module>\u001b[0;34m()\u001b[0m\n\u001b[1;32m      2\u001b[0m \u001b[0my\u001b[0m \u001b[0;34m=\u001b[0m \u001b[0mf\u001b[0m\u001b[0;34m(\u001b[0m\u001b[0mx\u001b[0m\u001b[0;34m)\u001b[0m\u001b[0;34m\u001b[0m\u001b[0;34m\u001b[0m\u001b[0m\n\u001b[1;32m      3\u001b[0m \u001b[0;31m# 에러가 발생합니다!\u001b[0m\u001b[0;34m\u001b[0m\u001b[0;34m\u001b[0m\u001b[0;34m\u001b[0m\u001b[0m\n\u001b[0;32m----> 4\u001b[0;31m \u001b[0my\u001b[0m\u001b[0;34m.\u001b[0m\u001b[0mbackward\u001b[0m\u001b[0;34m(\u001b[0m\u001b[0;34m)\u001b[0m\u001b[0;34m\u001b[0m\u001b[0;34m\u001b[0m\u001b[0m\n\u001b[0m\u001b[1;32m      5\u001b[0m \u001b[0mprint\u001b[0m\u001b[0;34m(\u001b[0m\u001b[0mx\u001b[0m\u001b[0;34m.\u001b[0m\u001b[0mgrad\u001b[0m\u001b[0;34m)\u001b[0m\u001b[0;34m\u001b[0m\u001b[0;34m\u001b[0m\u001b[0m\n",
            "\u001b[0;32m/usr/local/lib/python3.7/dist-packages/torch/_tensor.py\u001b[0m in \u001b[0;36mbackward\u001b[0;34m(self, gradient, retain_graph, create_graph, inputs)\u001b[0m\n\u001b[1;32m    394\u001b[0m                 \u001b[0mcreate_graph\u001b[0m\u001b[0;34m=\u001b[0m\u001b[0mcreate_graph\u001b[0m\u001b[0;34m,\u001b[0m\u001b[0;34m\u001b[0m\u001b[0;34m\u001b[0m\u001b[0m\n\u001b[1;32m    395\u001b[0m                 inputs=inputs)\n\u001b[0;32m--> 396\u001b[0;31m         \u001b[0mtorch\u001b[0m\u001b[0;34m.\u001b[0m\u001b[0mautograd\u001b[0m\u001b[0;34m.\u001b[0m\u001b[0mbackward\u001b[0m\u001b[0;34m(\u001b[0m\u001b[0mself\u001b[0m\u001b[0;34m,\u001b[0m \u001b[0mgradient\u001b[0m\u001b[0;34m,\u001b[0m \u001b[0mretain_graph\u001b[0m\u001b[0;34m,\u001b[0m \u001b[0mcreate_graph\u001b[0m\u001b[0;34m,\u001b[0m \u001b[0minputs\u001b[0m\u001b[0;34m=\u001b[0m\u001b[0minputs\u001b[0m\u001b[0;34m)\u001b[0m\u001b[0;34m\u001b[0m\u001b[0;34m\u001b[0m\u001b[0m\n\u001b[0m\u001b[1;32m    397\u001b[0m \u001b[0;34m\u001b[0m\u001b[0m\n\u001b[1;32m    398\u001b[0m     \u001b[0;32mdef\u001b[0m \u001b[0mregister_hook\u001b[0m\u001b[0;34m(\u001b[0m\u001b[0mself\u001b[0m\u001b[0;34m,\u001b[0m \u001b[0mhook\u001b[0m\u001b[0;34m)\u001b[0m\u001b[0;34m:\u001b[0m\u001b[0;34m\u001b[0m\u001b[0;34m\u001b[0m\u001b[0m\n",
            "\u001b[0;32m/usr/local/lib/python3.7/dist-packages/torch/autograd/__init__.py\u001b[0m in \u001b[0;36mbackward\u001b[0;34m(tensors, grad_tensors, retain_graph, create_graph, grad_variables, inputs)\u001b[0m\n\u001b[1;32m    164\u001b[0m \u001b[0;34m\u001b[0m\u001b[0m\n\u001b[1;32m    165\u001b[0m     \u001b[0mgrad_tensors_\u001b[0m \u001b[0;34m=\u001b[0m \u001b[0m_tensor_or_tensors_to_tuple\u001b[0m\u001b[0;34m(\u001b[0m\u001b[0mgrad_tensors\u001b[0m\u001b[0;34m,\u001b[0m \u001b[0mlen\u001b[0m\u001b[0;34m(\u001b[0m\u001b[0mtensors\u001b[0m\u001b[0;34m)\u001b[0m\u001b[0;34m)\u001b[0m\u001b[0;34m\u001b[0m\u001b[0;34m\u001b[0m\u001b[0m\n\u001b[0;32m--> 166\u001b[0;31m     \u001b[0mgrad_tensors_\u001b[0m \u001b[0;34m=\u001b[0m \u001b[0m_make_grads\u001b[0m\u001b[0;34m(\u001b[0m\u001b[0mtensors\u001b[0m\u001b[0;34m,\u001b[0m \u001b[0mgrad_tensors_\u001b[0m\u001b[0;34m,\u001b[0m \u001b[0mis_grads_batched\u001b[0m\u001b[0;34m=\u001b[0m\u001b[0;32mFalse\u001b[0m\u001b[0;34m)\u001b[0m\u001b[0;34m\u001b[0m\u001b[0;34m\u001b[0m\u001b[0m\n\u001b[0m\u001b[1;32m    167\u001b[0m     \u001b[0;32mif\u001b[0m \u001b[0mretain_graph\u001b[0m \u001b[0;32mis\u001b[0m \u001b[0;32mNone\u001b[0m\u001b[0;34m:\u001b[0m\u001b[0;34m\u001b[0m\u001b[0;34m\u001b[0m\u001b[0m\n\u001b[1;32m    168\u001b[0m         \u001b[0mretain_graph\u001b[0m \u001b[0;34m=\u001b[0m \u001b[0mcreate_graph\u001b[0m\u001b[0;34m\u001b[0m\u001b[0;34m\u001b[0m\u001b[0m\n",
            "\u001b[0;32m/usr/local/lib/python3.7/dist-packages/torch/autograd/__init__.py\u001b[0m in \u001b[0;36m_make_grads\u001b[0;34m(outputs, grads, is_grads_batched)\u001b[0m\n\u001b[1;32m     65\u001b[0m             \u001b[0;32mif\u001b[0m \u001b[0mout\u001b[0m\u001b[0;34m.\u001b[0m\u001b[0mrequires_grad\u001b[0m\u001b[0;34m:\u001b[0m\u001b[0;34m\u001b[0m\u001b[0;34m\u001b[0m\u001b[0m\n\u001b[1;32m     66\u001b[0m                 \u001b[0;32mif\u001b[0m \u001b[0mout\u001b[0m\u001b[0;34m.\u001b[0m\u001b[0mnumel\u001b[0m\u001b[0;34m(\u001b[0m\u001b[0;34m)\u001b[0m \u001b[0;34m!=\u001b[0m \u001b[0;36m1\u001b[0m\u001b[0;34m:\u001b[0m\u001b[0;34m\u001b[0m\u001b[0;34m\u001b[0m\u001b[0m\n\u001b[0;32m---> 67\u001b[0;31m                     \u001b[0;32mraise\u001b[0m \u001b[0mRuntimeError\u001b[0m\u001b[0;34m(\u001b[0m\u001b[0;34m\"grad can be implicitly created only for scalar outputs\"\u001b[0m\u001b[0;34m)\u001b[0m\u001b[0;34m\u001b[0m\u001b[0;34m\u001b[0m\u001b[0m\n\u001b[0m\u001b[1;32m     68\u001b[0m                 \u001b[0mnew_grads\u001b[0m\u001b[0;34m.\u001b[0m\u001b[0mappend\u001b[0m\u001b[0;34m(\u001b[0m\u001b[0mtorch\u001b[0m\u001b[0;34m.\u001b[0m\u001b[0mones_like\u001b[0m\u001b[0;34m(\u001b[0m\u001b[0mout\u001b[0m\u001b[0;34m,\u001b[0m \u001b[0mmemory_format\u001b[0m\u001b[0;34m=\u001b[0m\u001b[0mtorch\u001b[0m\u001b[0;34m.\u001b[0m\u001b[0mpreserve_format\u001b[0m\u001b[0;34m)\u001b[0m\u001b[0;34m)\u001b[0m\u001b[0;34m\u001b[0m\u001b[0;34m\u001b[0m\u001b[0m\n\u001b[1;32m     69\u001b[0m             \u001b[0;32melse\u001b[0m\u001b[0;34m:\u001b[0m\u001b[0;34m\u001b[0m\u001b[0;34m\u001b[0m\u001b[0m\n",
            "\u001b[0;31mRuntimeError\u001b[0m: grad can be implicitly created only for scalar outputs"
          ]
        }
      ],
      "source": [
        "x = torch.tensor([1.0, 0.5], requires_grad=True)\n",
        "y = f(x)\n",
        "# 에러가 발생합니다!\n",
        "y.backward()\n",
        "print(x.grad)"
      ]
    },
    {
      "cell_type": "markdown",
      "metadata": {
        "id": "iZufiizEDfFT"
      },
      "source": [
        "스칼라 출력을 만들어 보죠."
      ]
    },
    {
      "cell_type": "code",
      "execution_count": null,
      "metadata": {
        "colab": {
          "base_uri": "https://localhost:8080/"
        },
        "id": "uj7buPVSDfFT",
        "outputId": "a296b4b2-17be-45c9-d5cd-1cc4b05d8e47"
      },
      "outputs": [
        {
          "name": "stdout",
          "output_type": "stream",
          "text": [
            "tensor([0.5403, 0.8776])\n"
          ]
        }
      ],
      "source": [
        "x = torch.tensor([1.0, 0.5], requires_grad=True)\n",
        "y = f(x)\n",
        "y.sum().backward()\n",
        "print(x.grad)"
      ]
    },
    {
      "cell_type": "markdown",
      "metadata": {
        "id": "hSm1B9j9DfFT"
      },
      "source": [
        "하지만 이슈가 있습니다. 이 함수는 예외적인 경우에 맞지 않습니다."
      ]
    },
    {
      "cell_type": "code",
      "execution_count": null,
      "metadata": {
        "colab": {
          "base_uri": "https://localhost:8080/"
        },
        "id": "3U6n5UxoDfFT",
        "outputId": "94a93264-3654-404a-c212-7c034f7acb7f"
      },
      "outputs": [
        {
          "name": "stdout",
          "output_type": "stream",
          "text": [
            "tensor([-0.8415,  0.8415])\n"
          ]
        }
      ],
      "source": [
        "x = torch.tensor([1.0, -1], requires_grad=True)\n",
        "y = f(x)\n",
        "y.sum().backward()\n",
        "print(x.grad)"
      ]
    },
    {
      "cell_type": "code",
      "execution_count": null,
      "metadata": {
        "colab": {
          "base_uri": "https://localhost:8080/"
        },
        "id": "3yGLTFKzDfFT",
        "outputId": "b6706275-04c0-4f77-d512-aaf88260242b"
      },
      "outputs": [
        {
          "name": "stdout",
          "output_type": "stream",
          "text": [
            "tensor([0.4794, 0.8415])\n"
          ]
        }
      ],
      "source": [
        "x = torch.tensor([-0.5, -1], requires_grad=True)\n",
        "y = f(x)\n",
        "y.sum().backward()\n",
        "print(x.grad)"
      ]
    },
    {
      "cell_type": "markdown",
      "metadata": {
        "id": "v6_Be0WADfFU"
      },
      "source": [
        "이는 원소별로 불리언 연산과 코사인/사인 계산이 수행되지 않기 때문입니다. 이를 해결하기 위해 자주 사용되는 방법은 마스킹입니다."
      ]
    },
    {
      "cell_type": "code",
      "execution_count": null,
      "metadata": {
        "colab": {
          "base_uri": "https://localhost:8080/"
        },
        "id": "JwpZenV4DfFU",
        "outputId": "488d7ea3-078a-4b52-f0c9-781b1a70d175"
      },
      "outputs": [
        {
          "name": "stdout",
          "output_type": "stream",
          "text": [
            "tensor([0.5403, 0.8415])\n"
          ]
        }
      ],
      "source": [
        "def f2(x):\n",
        "    mask = torch.gt(x, 0).float()\n",
        "    return mask * torch.sin(x) + (1 - mask) * torch.cos(x)\n",
        "\n",
        "x = torch.tensor([1.0, -1], requires_grad=True)\n",
        "y = f2(x)\n",
        "y.sum().backward()\n",
        "print(x.grad)"
      ]
    },
    {
      "cell_type": "code",
      "execution_count": null,
      "metadata": {
        "id": "Di9CvzaADfFU"
      },
      "outputs": [],
      "source": [
        "def describe_grad(x):\n",
        "    if x.grad is None:\n",
        "        print(\"그레이디언트 정보 없음\")\n",
        "    else:\n",
        "        print(\"그레이디언트: \\n{}\".format(x.grad))\n",
        "        print(\"그레이디언트 함수: {}\".format(x.grad_fn))"
      ]
    },
    {
      "cell_type": "code",
      "execution_count": null,
      "metadata": {
        "id": "LzvHUne1DfFU"
      },
      "outputs": [],
      "source": []
    },
    {
      "cell_type": "code",
      "execution_count": null,
      "metadata": {
        "colab": {
          "base_uri": "https://localhost:8080/"
        },
        "id": "Tt5iYAjSDfFU",
        "outputId": "d89b2cac-7588-44f3-ef2a-f20983ecb74c"
      },
      "outputs": [
        {
          "name": "stdout",
          "output_type": "stream",
          "text": [
            "타입: torch.FloatTensor\n",
            "크기: torch.Size([2, 2])\n",
            "값: \n",
            "tensor([[1., 1.],\n",
            "        [1., 1.]], requires_grad=True)\n",
            "그레이디언트 정보 없음\n",
            "--------\n",
            "타입: torch.FloatTensor\n",
            "크기: torch.Size([2, 2])\n",
            "값: \n",
            "tensor([[21., 21.],\n",
            "        [21., 21.]], grad_fn=<AddBackward0>)\n",
            "타입: torch.FloatTensor\n",
            "크기: torch.Size([])\n",
            "값: \n",
            "21.0\n",
            "그레이디언트 정보 없음\n",
            "--------\n",
            "그레이디언트: \n",
            "tensor([[2.2500, 2.2500],\n",
            "        [2.2500, 2.2500]], grad_fn=<CopyBackwards>)\n",
            "그레이디언트 함수: None\n",
            "--------\n"
          ]
        },
        {
          "name": "stderr",
          "output_type": "stream",
          "text": [
            "/usr/local/lib/python3.7/dist-packages/torch/autograd/__init__.py:175: UserWarning: Using backward() with create_graph=True will create a reference cycle between the parameter and its gradient which can cause a memory leak. We recommend using autograd.grad when creating the graph to avoid this. If you have to use this function, make sure to reset the .grad fields of your parameters to None after use to break the cycle and avoid the leak. (Triggered internally at  ../torch/csrc/autograd/engine.cpp:995.)\n",
            "  allow_unreachable=True, accumulate_grad=True)  # Calls into the C++ engine to run the backward pass\n"
          ]
        }
      ],
      "source": [
        "import torch\n",
        "x = torch.ones(2, 2, requires_grad=True)\n",
        "describe(x)\n",
        "describe_grad(x)\n",
        "print(\"--------\")\n",
        "\n",
        "y = (x + 2) * (x + 5) + 3\n",
        "describe(y)\n",
        "z = y.mean()\n",
        "describe(z)\n",
        "describe_grad(x)\n",
        "print(\"--------\")\n",
        "z.backward(create_graph=True, retain_graph=True)\n",
        "describe_grad(x)\n",
        "print(\"--------\")\n"
      ]
    },
    {
      "cell_type": "code",
      "execution_count": null,
      "metadata": {
        "id": "y9daTUq1DfFU"
      },
      "outputs": [],
      "source": [
        "x = torch.ones(2, 2, requires_grad=True)"
      ]
    },
    {
      "cell_type": "code",
      "execution_count": null,
      "metadata": {
        "id": "oLnrDadZDfFU"
      },
      "outputs": [],
      "source": [
        "y = x + 2"
      ]
    },
    {
      "cell_type": "code",
      "execution_count": null,
      "metadata": {
        "colab": {
          "base_uri": "https://localhost:8080/"
        },
        "id": "MmAYdgI9DfFU",
        "outputId": "bdf50937-7e1a-421d-d028-2c8621c7ce5c"
      },
      "outputs": [
        {
          "data": {
            "text/plain": [
              "<AddBackward0 at 0x7fe5838509d0>"
            ]
          },
          "execution_count": 60,
          "metadata": {},
          "output_type": "execute_result"
        }
      ],
      "source": [
        "y.grad_fn"
      ]
    },
    {
      "cell_type": "markdown",
      "metadata": {
        "id": "wEi6jgVtDfFV"
      },
      "source": [
        "### CUDA 텐서"
      ]
    },
    {
      "cell_type": "markdown",
      "metadata": {
        "id": "R2NaVEcXDfFV"
      },
      "source": [
        "파이토치 연산은 GPU나 CPU에서 수행할 수 있습니다. 두 장치를 사용하기 위한 몇 가지 연산을 제공합니다. (코랩에서 실행할 경우 런타임 유형을 GPU로 바꾸세요)"
      ]
    },
    {
      "cell_type": "code",
      "execution_count": null,
      "metadata": {
        "colab": {
          "base_uri": "https://localhost:8080/"
        },
        "id": "vqg6zXNfDfFV",
        "outputId": "1415c77d-358e-48d2-e5e4-64630c8daf9a"
      },
      "outputs": [
        {
          "ename": "NameError",
          "evalue": "name 'torch' is not defined",
          "output_type": "error",
          "traceback": [
            "\u001b[0;31m---------------------------------------------------------------------------\u001b[0m",
            "\u001b[0;31mNameError\u001b[0m                                 Traceback (most recent call last)",
            "\u001b[1;32m/Users/muncheolhyeon/Github/lang-study/coding/python/NLP/week09/PyTorch-Basics.ipynb 셀 113\u001b[0m line \u001b[0;36m1\n\u001b[0;32m----> <a href='vscode-notebook-cell:/Users/muncheolhyeon/Github/lang-study/coding/python/NLP/week09/PyTorch-Basics.ipynb#Y220sZmlsZQ%3D%3D?line=0'>1</a>\u001b[0m \u001b[39mprint\u001b[39m(torch\u001b[39m.\u001b[39mcuda\u001b[39m.\u001b[39mis_available())\n",
            "\u001b[0;31mNameError\u001b[0m: name 'torch' is not defined"
          ]
        }
      ],
      "source": [
        "print(torch.cuda.is_available())"
      ]
    },
    {
      "cell_type": "code",
      "execution_count": null,
      "metadata": {
        "colab": {
          "base_uri": "https://localhost:8080/"
        },
        "id": "q3SMeb_GDfFV",
        "outputId": "bad1293b-f4ff-4390-a3bf-94821ffd40eb"
      },
      "outputs": [
        {
          "name": "stdout",
          "output_type": "stream",
          "text": [
            "타입: torch.FloatTensor\n",
            "크기: torch.Size([3, 3])\n",
            "값: \n",
            "tensor([[0.9149, 0.3993, 0.1100],\n",
            "        [0.2541, 0.4333, 0.4451],\n",
            "        [0.4966, 0.7865, 0.6604]])\n"
          ]
        }
      ],
      "source": [
        "x = torch.rand(3,3)\n",
        "describe(x)"
      ]
    },
    {
      "cell_type": "code",
      "execution_count": null,
      "metadata": {
        "colab": {
          "base_uri": "https://localhost:8080/"
        },
        "id": "MQ9HSwU8DfFV",
        "outputId": "a940c220-bfb8-4aa1-b483-60298e80dd3f"
      },
      "outputs": [
        {
          "name": "stdout",
          "output_type": "stream",
          "text": [
            "cuda\n"
          ]
        }
      ],
      "source": [
        "device = torch.device(\"cuda\" if torch.cuda.is_available() else \"cpu\")\n",
        "print(device)"
      ]
    },
    {
      "cell_type": "code",
      "execution_count": null,
      "metadata": {
        "colab": {
          "base_uri": "https://localhost:8080/"
        },
        "id": "YqCq_Ae8DfFV",
        "outputId": "b37253ac-ef23-4690-dba2-bccabcb9b7d1"
      },
      "outputs": [
        {
          "name": "stdout",
          "output_type": "stream",
          "text": [
            "타입: torch.cuda.FloatTensor\n",
            "크기: torch.Size([3, 3])\n",
            "값: \n",
            "tensor([[0.1303, 0.3498, 0.3824],\n",
            "        [0.8043, 0.3186, 0.2908],\n",
            "        [0.4196, 0.3728, 0.3769]], device='cuda:0')\n",
            "cuda:0\n"
          ]
        }
      ],
      "source": [
        "x = torch.rand(3, 3).to(device)\n",
        "describe(x)\n",
        "print(x.device)"
      ]
    },
    {
      "cell_type": "code",
      "execution_count": null,
      "metadata": {
        "id": "4vZqy-PPDfFV"
      },
      "outputs": [],
      "source": [
        "cpu_device = torch.device(\"cpu\")"
      ]
    },
    {
      "cell_type": "code",
      "execution_count": null,
      "metadata": {
        "colab": {
          "base_uri": "https://localhost:8080/",
          "height": 201
        },
        "id": "FdnSiZoDDfFV",
        "outputId": "27cecda3-a625-4071-b1e6-ff90502bff62"
      },
      "outputs": [
        {
          "ename": "RuntimeError",
          "evalue": "ignored",
          "output_type": "error",
          "traceback": [
            "\u001b[0;31m---------------------------------------------------------------------------\u001b[0m",
            "\u001b[0;31mRuntimeError\u001b[0m                              Traceback (most recent call last)",
            "\u001b[0;32m<ipython-input-66-da2c26e4d90e>\u001b[0m in \u001b[0;36m<module>\u001b[0;34m()\u001b[0m\n\u001b[1;32m      1\u001b[0m \u001b[0;31m# 에러 발생!\u001b[0m\u001b[0;34m\u001b[0m\u001b[0;34m\u001b[0m\u001b[0;34m\u001b[0m\u001b[0m\n\u001b[1;32m      2\u001b[0m \u001b[0my\u001b[0m \u001b[0;34m=\u001b[0m \u001b[0mtorch\u001b[0m\u001b[0;34m.\u001b[0m\u001b[0mrand\u001b[0m\u001b[0;34m(\u001b[0m\u001b[0;36m3\u001b[0m\u001b[0;34m,\u001b[0m \u001b[0;36m3\u001b[0m\u001b[0;34m)\u001b[0m\u001b[0;34m\u001b[0m\u001b[0;34m\u001b[0m\u001b[0m\n\u001b[0;32m----> 3\u001b[0;31m \u001b[0mx\u001b[0m \u001b[0;34m+\u001b[0m \u001b[0my\u001b[0m\u001b[0;34m\u001b[0m\u001b[0;34m\u001b[0m\u001b[0m\n\u001b[0m",
            "\u001b[0;31mRuntimeError\u001b[0m: Expected all tensors to be on the same device, but found at least two devices, cuda:0 and cpu!"
          ]
        }
      ],
      "source": [
        "# 에러 발생!\n",
        "y = torch.rand(3, 3)\n",
        "x + y"
      ]
    },
    {
      "cell_type": "code",
      "execution_count": null,
      "metadata": {
        "colab": {
          "base_uri": "https://localhost:8080/"
        },
        "id": "lg09abXdDfFW",
        "outputId": "3c9363e7-9cee-4069-9a2a-6346f7c69dd2"
      },
      "outputs": [
        {
          "data": {
            "text/plain": [
              "tensor([[0.1411, 1.2953, 1.1485],\n",
              "        [1.0677, 0.5066, 0.8082],\n",
              "        [1.2045, 0.5140, 0.6881]])"
            ]
          },
          "execution_count": 67,
          "metadata": {},
          "output_type": "execute_result"
        }
      ],
      "source": [
        "y = y.to(cpu_device)\n",
        "x = x.to(cpu_device)\n",
        "x + y"
      ]
    },
    {
      "cell_type": "code",
      "execution_count": null,
      "metadata": {
        "colab": {
          "base_uri": "https://localhost:8080/",
          "height": 357
        },
        "id": "e-B3Dh5HDfFW",
        "outputId": "f474d1a2-23dc-488e-b400-aedcbe07658a"
      },
      "outputs": [
        {
          "name": "stdout",
          "output_type": "stream",
          "text": [
            "tensor([[0.7091, 0.1775, 0.4443],\n",
            "        [0.1230, 0.9638, 0.7695],\n",
            "        [0.0378, 0.2239, 0.6772]], device='cuda:0')\n",
            "tensor([[0.5274, 0.6325, 0.0910],\n",
            "        [0.2323, 0.7269, 0.1187],\n",
            "        [0.3951, 0.7199, 0.7595]], device='cuda:0')\n",
            "tensor([[1.2365, 0.8100, 0.5353],\n",
            "        [0.3552, 1.6906, 0.8883],\n",
            "        [0.4330, 0.9438, 1.4367]], device='cuda:0')\n"
          ]
        },
        {
          "ename": "RuntimeError",
          "evalue": "ignored",
          "output_type": "error",
          "traceback": [
            "\u001b[0;31m---------------------------------------------------------------------------\u001b[0m",
            "\u001b[0;31mRuntimeError\u001b[0m                              Traceback (most recent call last)",
            "\u001b[0;32m<ipython-input-68-6443ff5bff8d>\u001b[0m in \u001b[0;36m<module>\u001b[0;34m()\u001b[0m\n\u001b[1;32m      9\u001b[0m \u001b[0;34m\u001b[0m\u001b[0m\n\u001b[1;32m     10\u001b[0m     \u001b[0ma\u001b[0m \u001b[0;34m=\u001b[0m \u001b[0ma\u001b[0m\u001b[0;34m.\u001b[0m\u001b[0mcpu\u001b[0m\u001b[0;34m(\u001b[0m\u001b[0;34m)\u001b[0m \u001b[0;31m# 에러 발생\u001b[0m\u001b[0;34m\u001b[0m\u001b[0;34m\u001b[0m\u001b[0m\n\u001b[0;32m---> 11\u001b[0;31m     \u001b[0mprint\u001b[0m\u001b[0;34m(\u001b[0m\u001b[0ma\u001b[0m \u001b[0;34m+\u001b[0m \u001b[0mb\u001b[0m\u001b[0;34m)\u001b[0m\u001b[0;34m\u001b[0m\u001b[0;34m\u001b[0m\u001b[0m\n\u001b[0m",
            "\u001b[0;31mRuntimeError\u001b[0m: Expected all tensors to be on the same device, but found at least two devices, cuda:0 and cpu!"
          ]
        }
      ],
      "source": [
        "if torch.cuda.is_available(): # GPU가 있을 경우에\n",
        "    a = torch.rand(3,3).to(device='cuda:0') #  CUDA 텐서\n",
        "    print(a)\n",
        "    \n",
        "    b = torch.rand(3,3).cuda()\n",
        "    print(b)\n",
        "\n",
        "    print(a + b)\n",
        "\n",
        "    a = a.cpu() # 에러 발생\n",
        "    print(a + b)"
      ]
    },
    {
      "cell_type": "markdown",
      "metadata": {
        "collapsed": true,
        "id": "URJ6NyFCDfFW"
      },
      "source": [
        "### 연습문제\n",
        "\n",
        "연습문제에 필요한 일부 연산은 이 노트북에 있지 않습니다. [파이토치 문서](https://pytorch.org/docs/)를 참고하세요!\n",
        "\n",
        "(정답은 맨 아래 있습니다)"
      ]
    },
    {
      "cell_type": "markdown",
      "metadata": {
        "id": "QP_P5x2fDfFW"
      },
      "source": [
        "#### 문제 1\n",
        "\n",
        "2D 텐서를 만들고 차원 0 위치에 크기가 1인 차원을 추가하세요."
      ]
    },
    {
      "cell_type": "code",
      "execution_count": null,
      "metadata": {
        "id": "ZY6jOdr6DfFW"
      },
      "outputs": [],
      "source": []
    },
    {
      "cell_type": "markdown",
      "metadata": {
        "id": "An7pRqkfDfFW"
      },
      "source": [
        "#### 문제 2 \n",
        "\n",
        "이전 텐서에 추가한 차원을 삭제하세요."
      ]
    },
    {
      "cell_type": "code",
      "execution_count": null,
      "metadata": {
        "id": "61EZPOKTDfFW"
      },
      "outputs": [],
      "source": []
    },
    {
      "cell_type": "markdown",
      "metadata": {
        "id": "dnXo4z2rDfFW"
      },
      "source": [
        "#### 문제\u001f 3\n",
        "\n",
        "[3, 7) 범위를 갖는 5x3 크기의 랜덤한 텐서를 만드세요."
      ]
    },
    {
      "cell_type": "code",
      "execution_count": null,
      "metadata": {
        "id": "cdRGxEwLDfFX"
      },
      "outputs": [],
      "source": []
    },
    {
      "cell_type": "markdown",
      "metadata": {
        "id": "BJjTeh40DfFX"
      },
      "source": [
        "#### 문제 4\n",
        "\n",
        "정규 분포(평균=0, 표준편차=1)를 사용해 텐서를 만드세요."
      ]
    },
    {
      "cell_type": "code",
      "execution_count": null,
      "metadata": {
        "id": "ux9AWdsyDfFX"
      },
      "outputs": [],
      "source": []
    },
    {
      "cell_type": "markdown",
      "metadata": {
        "id": "S5mM3avjDfFX"
      },
      "source": [
        "#### 문제 5\n",
        "\n",
        "텐서 `torch.Tensor([1, 1, 1, 0, 1])`에서 0이 아닌 원소의 인덱스를 추출하세요."
      ]
    },
    {
      "cell_type": "code",
      "execution_count": null,
      "metadata": {
        "id": "qADfBiNODfFX"
      },
      "outputs": [],
      "source": []
    },
    {
      "cell_type": "markdown",
      "metadata": {
        "id": "WDDN0c6GDfFX"
      },
      "source": [
        "#### 문제 6\n",
        "\n",
        "(3,1) 크기가 인 랜덤한 텐서를 만들고 네 벌을 복사해 쌓으세요."
      ]
    },
    {
      "cell_type": "code",
      "execution_count": null,
      "metadata": {
        "id": "6tcFkGdXDfFX"
      },
      "outputs": [],
      "source": []
    },
    {
      "cell_type": "markdown",
      "metadata": {
        "id": "jYKzNqW2DfFX"
      },
      "source": [
        "#### 문제 7\n",
        "\n",
        "두 개의 2차원 행렬(`a=torch.rand(3,4,5)`, `b=torch.rand(3,5,4)`)의 배치 행렬 곱셈(batch matrix-matrix product)을 계산하세요."
      ]
    },
    {
      "cell_type": "code",
      "execution_count": null,
      "metadata": {
        "id": "ny9nsdisDfFX"
      },
      "outputs": [],
      "source": []
    },
    {
      "cell_type": "markdown",
      "metadata": {
        "id": "U0NDHT64DfFX"
      },
      "source": [
        "#### 문제 8\n",
        "\n",
        "3차원 행렬(`a=torch.rand(3,4,5)`)과 2차원 행렬(`b=torch.rand(5,4)`)의 배치 행렬 곱셈을 계산하세요."
      ]
    },
    {
      "cell_type": "code",
      "execution_count": null,
      "metadata": {
        "id": "q0hAp1jODfFY"
      },
      "outputs": [],
      "source": []
    },
    {
      "cell_type": "markdown",
      "metadata": {
        "id": "jYxLq3ZKDfFY"
      },
      "source": [
        "정답은 아래에.."
      ]
    },
    {
      "cell_type": "code",
      "execution_count": null,
      "metadata": {
        "id": "tKYCDVsODfFY"
      },
      "outputs": [],
      "source": []
    },
    {
      "cell_type": "code",
      "execution_count": null,
      "metadata": {
        "id": "DSrBbzrKDfFY"
      },
      "outputs": [],
      "source": []
    },
    {
      "cell_type": "code",
      "execution_count": null,
      "metadata": {
        "id": "ymCarNbJDfFY"
      },
      "outputs": [],
      "source": []
    },
    {
      "cell_type": "code",
      "execution_count": null,
      "metadata": {
        "id": "8A7jPfYiDfFY"
      },
      "outputs": [],
      "source": []
    },
    {
      "cell_type": "code",
      "execution_count": null,
      "metadata": {
        "id": "E2G-ugqUDfFY"
      },
      "outputs": [],
      "source": []
    },
    {
      "cell_type": "code",
      "execution_count": null,
      "metadata": {
        "id": "j7lvyym0DfFY"
      },
      "outputs": [],
      "source": []
    },
    {
      "cell_type": "code",
      "execution_count": null,
      "metadata": {
        "id": "_2yE8VPiDfFY"
      },
      "outputs": [],
      "source": []
    },
    {
      "cell_type": "markdown",
      "metadata": {
        "id": "SZvtJ-bMDfFY"
      },
      "source": [
        "정답은 더 아래에.."
      ]
    },
    {
      "cell_type": "code",
      "execution_count": null,
      "metadata": {
        "id": "YJGlEhWnDfFZ"
      },
      "outputs": [],
      "source": []
    },
    {
      "cell_type": "code",
      "execution_count": null,
      "metadata": {
        "id": "U197Mx4tDfFZ"
      },
      "outputs": [],
      "source": []
    },
    {
      "cell_type": "code",
      "execution_count": null,
      "metadata": {
        "id": "gNwHj7ilDfFZ"
      },
      "outputs": [],
      "source": []
    },
    {
      "cell_type": "code",
      "execution_count": null,
      "metadata": {
        "id": "IUEK16FLDfFZ"
      },
      "outputs": [],
      "source": []
    },
    {
      "cell_type": "code",
      "execution_count": null,
      "metadata": {
        "id": "RVlXsnjoDfFZ"
      },
      "outputs": [],
      "source": []
    },
    {
      "cell_type": "code",
      "execution_count": null,
      "metadata": {
        "id": "e60drxIRDfFZ"
      },
      "outputs": [],
      "source": []
    },
    {
      "cell_type": "markdown",
      "metadata": {
        "collapsed": true,
        "id": "17L_DP8PDfFZ"
      },
      "source": [
        "#### 문제 1\n",
        "\n",
        "2D 텐서를 만들고 차원 0 위치에 크기가 1인 차원을 추가하세요."
      ]
    },
    {
      "cell_type": "code",
      "execution_count": null,
      "metadata": {
        "colab": {
          "base_uri": "https://localhost:8080/"
        },
        "id": "3gNzlitpDfFZ",
        "outputId": "bc72c427-f1b9-4731-8886-83d29329a825"
      },
      "outputs": [
        {
          "name": "stdout",
          "output_type": "stream",
          "text": [
            "tensor([[[0.5311, 0.6449, 0.7224],\n",
            "         [0.4416, 0.3634, 0.8818],\n",
            "         [0.9874, 0.7316, 0.2814]]])\n",
            "torch.Size([1, 3, 3])\n"
          ]
        }
      ],
      "source": [
        "a = torch.rand(3,3)\n",
        "a = a.unsqueeze(0)\n",
        "print(a)\n",
        "print(a.shape)"
      ]
    },
    {
      "cell_type": "markdown",
      "metadata": {
        "collapsed": true,
        "id": "uFLEd3XqDfFZ"
      },
      "source": [
        "#### 문제 2 \n",
        "\n",
        "이전 텐서에 추가한 차원을 삭제하세요."
      ]
    },
    {
      "cell_type": "code",
      "execution_count": null,
      "metadata": {
        "colab": {
          "base_uri": "https://localhost:8080/"
        },
        "id": "WXC1yxW9DfFa",
        "outputId": "251d8159-76da-4976-aaff-9c2b73eb26dd"
      },
      "outputs": [
        {
          "name": "stdout",
          "output_type": "stream",
          "text": [
            "torch.Size([3, 3])\n"
          ]
        }
      ],
      "source": [
        "a = a.squeeze(0)\n",
        "print(a.shape)"
      ]
    },
    {
      "cell_type": "markdown",
      "metadata": {
        "collapsed": true,
        "id": "eceWLyK4DfFa"
      },
      "source": [
        "#### 문제\u001f 3\n",
        "\n",
        "[3, 7) 범위를 갖는 5x3 크기의 랜덤한 텐서를 만드세요."
      ]
    },
    {
      "cell_type": "code",
      "execution_count": null,
      "metadata": {
        "colab": {
          "base_uri": "https://localhost:8080/"
        },
        "id": "0NZvT53-DfFa",
        "outputId": "0170b54e-369a-4313-ebf2-140d9caf5119"
      },
      "outputs": [
        {
          "data": {
            "text/plain": [
              "tensor([[3.2603, 3.0260, 5.0138],\n",
              "        [4.2326, 4.4967, 4.7188],\n",
              "        [6.8914, 6.8958, 4.8130],\n",
              "        [4.3994, 5.9713, 4.8404],\n",
              "        [3.0970, 5.6519, 6.9147]])"
            ]
          },
          "execution_count": 71,
          "metadata": {},
          "output_type": "execute_result"
        }
      ],
      "source": [
        "3 + torch.rand(5, 3) * 4"
      ]
    },
    {
      "cell_type": "markdown",
      "metadata": {
        "collapsed": true,
        "id": "-ayfXG3lDfFa"
      },
      "source": [
        "#### 문제 4\n",
        "\n",
        "정규 분포(평균=0, 표준편차=1)를 사용해 텐서를 만드세요."
      ]
    },
    {
      "cell_type": "code",
      "execution_count": null,
      "metadata": {
        "colab": {
          "base_uri": "https://localhost:8080/"
        },
        "id": "f_n4FOwsDfFa",
        "outputId": "25a9519b-7fca-4c73-fc34-4b64a2ff6019"
      },
      "outputs": [
        {
          "data": {
            "text/plain": [
              "tensor([[ 0.5548, -0.0845,  0.5903],\n",
              "        [-1.0032, -1.7873,  0.0538],\n",
              "        [ 0.8246, -0.5723, -0.4876]])"
            ]
          },
          "execution_count": 72,
          "metadata": {},
          "output_type": "execute_result"
        }
      ],
      "source": [
        "a = torch.rand(3,3)\n",
        "a.normal_(mean=0, std=1)"
      ]
    },
    {
      "cell_type": "markdown",
      "metadata": {
        "id": "pKh6WkmFDfFa"
      },
      "source": [
        "#### 문제 5\n",
        "\n",
        "텐서 `torch.Tensor([1, 1, 1, 0, 1])`에서 0이 아닌 원소의 인덱스를 추출하세요."
      ]
    },
    {
      "cell_type": "code",
      "execution_count": null,
      "metadata": {
        "colab": {
          "base_uri": "https://localhost:8080/"
        },
        "id": "2x7PHZjQDfFb",
        "outputId": "b69e1d8d-ab65-4108-b9b0-2f4acafa1cd3"
      },
      "outputs": [
        {
          "data": {
            "text/plain": [
              "tensor([[0],\n",
              "        [1],\n",
              "        [2],\n",
              "        [4]])"
            ]
          },
          "execution_count": 73,
          "metadata": {},
          "output_type": "execute_result"
        }
      ],
      "source": [
        "a = torch.Tensor([1, 1, 1, 0, 1])\n",
        "torch.nonzero(a)"
      ]
    },
    {
      "cell_type": "markdown",
      "metadata": {
        "id": "DULGCmmWDfFb"
      },
      "source": [
        "#### 문제 6\n",
        "\n",
        "(3,1) 크기가 인 랜덤한 텐서를 만들고 네 벌을 복사해 쌓으세요."
      ]
    },
    {
      "cell_type": "code",
      "execution_count": null,
      "metadata": {
        "colab": {
          "base_uri": "https://localhost:8080/"
        },
        "id": "jSshFjdlDfFb",
        "outputId": "3c0840fa-53b5-4965-804f-1714708d1fb3"
      },
      "outputs": [
        {
          "data": {
            "text/plain": [
              "tensor([[0.6889, 0.6889, 0.6889, 0.6889],\n",
              "        [0.8389, 0.8389, 0.8389, 0.8389],\n",
              "        [0.1780, 0.1780, 0.1780, 0.1780]])"
            ]
          },
          "execution_count": 74,
          "metadata": {},
          "output_type": "execute_result"
        }
      ],
      "source": [
        "a = torch.rand(3,1)\n",
        "a.expand(3,4)"
      ]
    },
    {
      "cell_type": "markdown",
      "metadata": {
        "id": "eBiu_kqMDfFb"
      },
      "source": [
        "#### 문제 7\n",
        "\n",
        "두 개의 2차원 행렬(`a=torch.rand(3,4,5)`, `b=torch.rand(3,5,4)`)의 배치 행렬 곱셈(batch matrix-matrix product)을 계산하세요."
      ]
    },
    {
      "cell_type": "code",
      "execution_count": null,
      "metadata": {
        "colab": {
          "base_uri": "https://localhost:8080/"
        },
        "id": "T78e4vYRDfFb",
        "outputId": "9a568d7d-a66f-46c5-83c5-ad36bb96f55b"
      },
      "outputs": [
        {
          "data": {
            "text/plain": [
              "tensor([[[1.8631, 0.5816, 1.6206, 2.1847],\n",
              "         [1.4829, 0.6082, 1.3175, 1.5142],\n",
              "         [1.0181, 0.2124, 0.7511, 1.2270],\n",
              "         [1.8149, 0.4185, 1.7273, 1.9657]],\n",
              "\n",
              "        [[0.2883, 1.4538, 0.9522, 1.3637],\n",
              "         [0.6061, 0.8883, 0.5272, 1.2686],\n",
              "         [0.6755, 1.3005, 0.6378, 1.5955],\n",
              "         [0.3848, 1.5427, 1.0912, 1.3246]],\n",
              "\n",
              "        [[2.0046, 2.0660, 1.6496, 1.3565],\n",
              "         [2.0920, 2.0059, 1.7782, 1.5390],\n",
              "         [1.8414, 2.0416, 1.3245, 1.0922],\n",
              "         [1.1424, 1.4117, 0.9156, 0.6832]]])"
            ]
          },
          "execution_count": 75,
          "metadata": {},
          "output_type": "execute_result"
        }
      ],
      "source": [
        "a = torch.rand(3,4,5)\n",
        "b = torch.rand(3,5,4)\n",
        "torch.bmm(a, b)"
      ]
    },
    {
      "cell_type": "markdown",
      "metadata": {
        "collapsed": true,
        "id": "e7koPVH9DfFb"
      },
      "source": [
        "#### 문제 8\n",
        "\n",
        "3차원 행렬(`a=torch.rand(3,4,5)`)과 2차원 행렬(`b=torch.rand(5,4)`)의 배치 행렬 곱셈을 계산하세요."
      ]
    },
    {
      "cell_type": "code",
      "execution_count": null,
      "metadata": {
        "colab": {
          "base_uri": "https://localhost:8080/"
        },
        "id": "hnh8Gm4ZDfFb",
        "outputId": "c19c9120-4be4-4cdb-ee88-26712eee852d"
      },
      "outputs": [
        {
          "data": {
            "text/plain": [
              "tensor([[[1.7605, 2.0294, 1.5650, 0.6206],\n",
              "         [1.3520, 1.8327, 1.4261, 0.8760],\n",
              "         [1.5696, 2.2761, 1.9558, 0.7985],\n",
              "         [1.2448, 1.3463, 1.1928, 0.5456]],\n",
              "\n",
              "        [[1.7564, 1.8829, 1.5684, 0.7319],\n",
              "         [1.7715, 2.0721, 1.6825, 0.7578],\n",
              "         [1.4518, 2.1728, 1.8737, 0.8913],\n",
              "         [1.3978, 1.6048, 1.3362, 0.5736]],\n",
              "\n",
              "        [[1.7872, 2.4103, 1.9224, 0.8451],\n",
              "         [1.9918, 2.5528, 1.8675, 1.0383],\n",
              "         [1.7120, 2.0994, 1.5413, 0.9485],\n",
              "         [1.4417, 1.9108, 1.5602, 0.7331]]])"
            ]
          },
          "execution_count": 76,
          "metadata": {},
          "output_type": "execute_result"
        }
      ],
      "source": [
        "a = torch.rand(3,4,5)\n",
        "b = torch.rand(5,4)\n",
        "torch.bmm(a, b.unsqueeze(0).expand(a.size(0), *b.size()))"
      ]
    }
  ],
  "metadata": {
    "accelerator": "GPU",
    "colab": {
      "name": "PyTorch_Basics.ipynb",
      "provenance": []
    },
    "hide_input": false,
    "kernelspec": {
      "display_name": "Python 3",
      "language": "python",
      "name": "python3"
    },
    "language_info": {
      "codemirror_mode": {
        "name": "ipython",
        "version": 3
      },
      "file_extension": ".py",
      "mimetype": "text/x-python",
      "name": "python",
      "nbconvert_exporter": "python",
      "pygments_lexer": "ipython3",
      "version": "3.9.6"
    }
  },
  "nbformat": 4,
  "nbformat_minor": 0
}
